{
 "cells": [
  {
   "cell_type": "markdown",
   "metadata": {},
   "source": [
    "### 1) Use the Spotify API to create a dataframe of songs and their respective attributes from a large playlist\n",
    "\n",
    "### 2) Use the Spotify API to find the features for the songs I have listed to this past year\n",
    "\n",
    "-------------------------"
   ]
  },
  {
   "cell_type": "markdown",
   "metadata": {},
   "source": [
    "### Useful links"
   ]
  },
  {
   "cell_type": "markdown",
   "metadata": {},
   "source": [
    "#### Retrieving spotify data from spotify dev api\n",
    "https://towardsdatascience.com/how-to-create-large-music-datasets-using-spotipy-40e7242cc6a6\n",
    "\n",
    "https://github.com/MaxHilsdorf/introduction_to_spotipy"
   ]
  },
  {
   "cell_type": "markdown",
   "metadata": {},
   "source": [
    "#### Retrieving your own personal spotify data\n",
    "https://towardsdatascience.com/get-your-spotify-streaming-history-with-python-d5a208bbcbd3"
   ]
  },
  {
   "cell_type": "markdown",
   "metadata": {},
   "source": [
    "#### Spotify API \n",
    "https://spotipy.readthedocs.io/en/latest/#more-examples\n",
    "\n",
    "https://developer.spotify.com/documentation/web-api/\n",
    "\n",
    "https://developer.spotify.com/documentation/web-api/reference/tracks/get-audio-features/\n",
    "\n"
   ]
  },
  {
   "cell_type": "code",
   "execution_count": 1,
   "metadata": {},
   "outputs": [],
   "source": [
    "import pandas as pd\n",
    "import numpy as np"
   ]
  },
  {
   "cell_type": "code",
   "execution_count": 2,
   "metadata": {},
   "outputs": [],
   "source": [
    "import spotipy\n",
    "import spotipy.util as util"
   ]
  },
  {
   "cell_type": "markdown",
   "metadata": {},
   "source": [
    "#### TO GET THE BELOW ID AND SECRET, YOU NEED TO REGISTER FOR AN APP FROM DEVELOPER.SPOTIFY.COM"
   ]
  },
  {
   "cell_type": "code",
   "execution_count": 98,
   "metadata": {},
   "outputs": [],
   "source": [
    "CLIENT_ID = \"*****\"\n",
    "CLIENT_SECRET = \"*****\""
   ]
  },
  {
   "cell_type": "code",
   "execution_count": 99,
   "metadata": {},
   "outputs": [
    {
     "name": "stderr",
     "output_type": "stream",
     "text": [
      "C:\\Users\\charl\\anaconda3\\lib\\site-packages\\ipykernel_launcher.py:2: DeprecationWarning: You're using 'as_dict = True'.get_access_token will return the token string directly in future versions. Please adjust your code accordingly, or use get_cached_token instead.\n",
      "  \n"
     ]
    }
   ],
   "source": [
    "token = spotipy.oauth2.SpotifyClientCredentials(client_id=CLIENT_ID, client_secret=CLIENT_SECRET)\n",
    "cache_token = token.get_access_token()\n",
    "sp = spotipy.Spotify(cache_token)"
   ]
  },
  {
   "cell_type": "code",
   "execution_count": 12,
   "metadata": {},
   "outputs": [],
   "source": [
    "playlist_creator = \"spotify\"\n",
    "#This is a 5000 songs playlist from spotify\n",
    "playlist = '4rnleEAOdmFAbRcNCgZMpY'"
   ]
  },
  {
   "cell_type": "code",
   "execution_count": 45,
   "metadata": {},
   "outputs": [],
   "source": [
    "#https://stackoverflow.com/questions/39086287/spotipy-how-to-read-more-than-100-tracks-from-a-playlist\n",
    "#This enables us to get more than 100 tracks at a time\n",
    "def get_playlist_tracks(username,playlist_id):\n",
    "    results = sp.user_playlist_tracks(username,playlist_id)\n",
    "    tracks = results['items']\n",
    "    while results['next']:\n",
    "        results = sp.next(results)\n",
    "        tracks.extend(results['items'])\n",
    "    return tracks"
   ]
  },
  {
   "cell_type": "code",
   "execution_count": 14,
   "metadata": {},
   "outputs": [],
   "source": [
    "#Combining the get_playlist_tracks and analyze_playlist functions to get all features for our data\n",
    "\n",
    "def create_playlist_df(username,playlist_id):\n",
    "     # Create empty dataframe\n",
    "    playlist_features_list = [\"artist\", \"album\", \"track_name\", \"track_id\", \n",
    "                             \"danceability\", \"energy\", \"key\", \"loudness\", \"mode\", \"speechiness\",\n",
    "                             \"instrumentalness\", \"liveness\", \"valence\", \"tempo\", \"duration_ms\", \"time_signature\"]\n",
    "    playlist_df = pd.DataFrame(columns = playlist_features_list)\n",
    "    \n",
    "    # Create empty dict\n",
    "    playlist_features = {}\n",
    "    \n",
    "    # Loop through every track in the playlist, extract features and append the features to the playlist df\n",
    "    playlist = get_playlist_tracks(username,playlist_id)\n",
    "    for track in playlist:\n",
    "        # Get metadata\n",
    "        playlist_features[\"artist\"] = track[\"track\"][\"album\"][\"artists\"][0][\"name\"]\n",
    "        playlist_features[\"album\"] = track[\"track\"][\"album\"][\"name\"]\n",
    "        playlist_features[\"track_name\"] = track[\"track\"][\"name\"]\n",
    "        playlist_features[\"track_id\"] = track[\"track\"][\"id\"]\n",
    "        # Get audio features\n",
    "        audio_features = sp.audio_features(playlist_features[\"track_id\"])[0]\n",
    "        for feature in playlist_features_list[4:]:\n",
    "            playlist_features[feature] = audio_features[feature]\n",
    "        \n",
    "        # Concat the dfs\n",
    "        track_df = pd.DataFrame(playlist_features, index = [0])\n",
    "        playlist_df = pd.concat([playlist_df, track_df], ignore_index = True)\n",
    "        \n",
    "    return playlist_df"
   ]
  },
  {
   "cell_type": "code",
   "execution_count": 55,
   "metadata": {},
   "outputs": [],
   "source": [
    "a = create_playlist_df(playlist_creator,playlist)"
   ]
  },
  {
   "cell_type": "code",
   "execution_count": 56,
   "metadata": {},
   "outputs": [
    {
     "data": {
      "text/plain": [
       "4778"
      ]
     },
     "execution_count": 56,
     "metadata": {},
     "output_type": "execute_result"
    }
   ],
   "source": [
    "len(a)"
   ]
  },
  {
   "cell_type": "code",
   "execution_count": 57,
   "metadata": {},
   "outputs": [
    {
     "data": {
      "text/html": [
       "<div>\n",
       "<style scoped>\n",
       "    .dataframe tbody tr th:only-of-type {\n",
       "        vertical-align: middle;\n",
       "    }\n",
       "\n",
       "    .dataframe tbody tr th {\n",
       "        vertical-align: top;\n",
       "    }\n",
       "\n",
       "    .dataframe thead th {\n",
       "        text-align: right;\n",
       "    }\n",
       "</style>\n",
       "<table border=\"1\" class=\"dataframe\">\n",
       "  <thead>\n",
       "    <tr style=\"text-align: right;\">\n",
       "      <th></th>\n",
       "      <th>artist</th>\n",
       "      <th>album</th>\n",
       "      <th>track_name</th>\n",
       "      <th>track_id</th>\n",
       "      <th>danceability</th>\n",
       "      <th>energy</th>\n",
       "      <th>key</th>\n",
       "      <th>loudness</th>\n",
       "      <th>mode</th>\n",
       "      <th>speechiness</th>\n",
       "      <th>instrumentalness</th>\n",
       "      <th>liveness</th>\n",
       "      <th>valence</th>\n",
       "      <th>tempo</th>\n",
       "      <th>duration_ms</th>\n",
       "      <th>time_signature</th>\n",
       "    </tr>\n",
       "  </thead>\n",
       "  <tbody>\n",
       "    <tr>\n",
       "      <th>0</th>\n",
       "      <td>Hozier</td>\n",
       "      <td>Hozier (Deluxe)</td>\n",
       "      <td>Take Me To Church</td>\n",
       "      <td>7dS5EaCoMnN7DzlpT6aRn2</td>\n",
       "      <td>0.566</td>\n",
       "      <td>0.664</td>\n",
       "      <td>4</td>\n",
       "      <td>-5.303</td>\n",
       "      <td>0</td>\n",
       "      <td>0.0464</td>\n",
       "      <td>0</td>\n",
       "      <td>0.116</td>\n",
       "      <td>0.437</td>\n",
       "      <td>128.945</td>\n",
       "      <td>241688</td>\n",
       "      <td>4</td>\n",
       "    </tr>\n",
       "    <tr>\n",
       "      <th>1</th>\n",
       "      <td>Mike Posner</td>\n",
       "      <td>31 Minutes to Takeoff</td>\n",
       "      <td>Cooler Than Me - Single Mix</td>\n",
       "      <td>2V4bv1fNWfTcyRJKmej6Sj</td>\n",
       "      <td>0.768</td>\n",
       "      <td>0.820</td>\n",
       "      <td>7</td>\n",
       "      <td>-4.630</td>\n",
       "      <td>0</td>\n",
       "      <td>0.0475</td>\n",
       "      <td>0</td>\n",
       "      <td>0.704</td>\n",
       "      <td>0.625</td>\n",
       "      <td>129.969</td>\n",
       "      <td>213293</td>\n",
       "      <td>4</td>\n",
       "    </tr>\n",
       "    <tr>\n",
       "      <th>2</th>\n",
       "      <td>Tyler, The Creator</td>\n",
       "      <td>Flower Boy</td>\n",
       "      <td>See You Again (feat. Kali Uchis)</td>\n",
       "      <td>7KA4W4McWYRpgf0fWsJZWB</td>\n",
       "      <td>0.558</td>\n",
       "      <td>0.559</td>\n",
       "      <td>6</td>\n",
       "      <td>-9.222</td>\n",
       "      <td>1</td>\n",
       "      <td>0.0959</td>\n",
       "      <td>7.49e-06</td>\n",
       "      <td>0.109</td>\n",
       "      <td>0.620</td>\n",
       "      <td>78.558</td>\n",
       "      <td>180387</td>\n",
       "      <td>4</td>\n",
       "    </tr>\n",
       "    <tr>\n",
       "      <th>3</th>\n",
       "      <td>Bastille</td>\n",
       "      <td>Bad Blood</td>\n",
       "      <td>Pompeii</td>\n",
       "      <td>3gbBpTdY8lnQwqxNCcf795</td>\n",
       "      <td>0.679</td>\n",
       "      <td>0.715</td>\n",
       "      <td>9</td>\n",
       "      <td>-6.383</td>\n",
       "      <td>1</td>\n",
       "      <td>0.0407</td>\n",
       "      <td>0</td>\n",
       "      <td>0.271</td>\n",
       "      <td>0.571</td>\n",
       "      <td>127.435</td>\n",
       "      <td>214148</td>\n",
       "      <td>4</td>\n",
       "    </tr>\n",
       "    <tr>\n",
       "      <th>4</th>\n",
       "      <td>Shakira</td>\n",
       "      <td>Oral Fixation, Vol. 2 (Expanded Edition)</td>\n",
       "      <td>Hips Don't Lie (feat. Wyclef Jean)</td>\n",
       "      <td>3ZFTkvIE7kyPt6Nu3PEa7V</td>\n",
       "      <td>0.778</td>\n",
       "      <td>0.824</td>\n",
       "      <td>10</td>\n",
       "      <td>-5.892</td>\n",
       "      <td>0</td>\n",
       "      <td>0.0712</td>\n",
       "      <td>0</td>\n",
       "      <td>0.405</td>\n",
       "      <td>0.756</td>\n",
       "      <td>100.024</td>\n",
       "      <td>218093</td>\n",
       "      <td>4</td>\n",
       "    </tr>\n",
       "  </tbody>\n",
       "</table>\n",
       "</div>"
      ],
      "text/plain": [
       "               artist                                     album  \\\n",
       "0              Hozier                           Hozier (Deluxe)   \n",
       "1         Mike Posner                     31 Minutes to Takeoff   \n",
       "2  Tyler, The Creator                                Flower Boy   \n",
       "3            Bastille                                 Bad Blood   \n",
       "4             Shakira  Oral Fixation, Vol. 2 (Expanded Edition)   \n",
       "\n",
       "                           track_name                track_id  danceability  \\\n",
       "0                   Take Me To Church  7dS5EaCoMnN7DzlpT6aRn2         0.566   \n",
       "1         Cooler Than Me - Single Mix  2V4bv1fNWfTcyRJKmej6Sj         0.768   \n",
       "2    See You Again (feat. Kali Uchis)  7KA4W4McWYRpgf0fWsJZWB         0.558   \n",
       "3                             Pompeii  3gbBpTdY8lnQwqxNCcf795         0.679   \n",
       "4  Hips Don't Lie (feat. Wyclef Jean)  3ZFTkvIE7kyPt6Nu3PEa7V         0.778   \n",
       "\n",
       "   energy key  loudness mode  speechiness instrumentalness  liveness  valence  \\\n",
       "0   0.664   4    -5.303    0       0.0464                0     0.116    0.437   \n",
       "1   0.820   7    -4.630    0       0.0475                0     0.704    0.625   \n",
       "2   0.559   6    -9.222    1       0.0959         7.49e-06     0.109    0.620   \n",
       "3   0.715   9    -6.383    1       0.0407                0     0.271    0.571   \n",
       "4   0.824  10    -5.892    0       0.0712                0     0.405    0.756   \n",
       "\n",
       "     tempo duration_ms time_signature  \n",
       "0  128.945      241688              4  \n",
       "1  129.969      213293              4  \n",
       "2   78.558      180387              4  \n",
       "3  127.435      214148              4  \n",
       "4  100.024      218093              4  "
      ]
     },
     "execution_count": 57,
     "metadata": {},
     "output_type": "execute_result"
    }
   ],
   "source": [
    "a.head()"
   ]
  },
  {
   "cell_type": "code",
   "execution_count": 58,
   "metadata": {},
   "outputs": [],
   "source": [
    "a.to_csv('biggest_playlist_ever.csv')"
   ]
  },
  {
   "cell_type": "markdown",
   "metadata": {},
   "source": [
    "### Now time to bring in my personal song data"
   ]
  },
  {
   "cell_type": "code",
   "execution_count": 158,
   "metadata": {},
   "outputs": [],
   "source": [
    "import json \n",
    "  \n",
    "# Opening JSON file \n",
    "f = open(r'C:\\Users\\charl\\Python\\GitHub Projects\\Spotify_Project\\MyData\\StreamingHistory0.json',encoding=\"utf8\") \n",
    "  \n",
    "# returns JSON object as  \n",
    "# a dictionary \n",
    "data = json.load(f) "
   ]
  },
  {
   "cell_type": "code",
   "execution_count": 159,
   "metadata": {},
   "outputs": [],
   "source": [
    "hist = pd.DataFrame.from_dict(data)"
   ]
  },
  {
   "cell_type": "code",
   "execution_count": 160,
   "metadata": {},
   "outputs": [
    {
     "data": {
      "text/html": [
       "<div>\n",
       "<style scoped>\n",
       "    .dataframe tbody tr th:only-of-type {\n",
       "        vertical-align: middle;\n",
       "    }\n",
       "\n",
       "    .dataframe tbody tr th {\n",
       "        vertical-align: top;\n",
       "    }\n",
       "\n",
       "    .dataframe thead th {\n",
       "        text-align: right;\n",
       "    }\n",
       "</style>\n",
       "<table border=\"1\" class=\"dataframe\">\n",
       "  <thead>\n",
       "    <tr style=\"text-align: right;\">\n",
       "      <th></th>\n",
       "      <th>endTime</th>\n",
       "      <th>artistName</th>\n",
       "      <th>trackName</th>\n",
       "      <th>msPlayed</th>\n",
       "    </tr>\n",
       "  </thead>\n",
       "  <tbody>\n",
       "    <tr>\n",
       "      <th>0</th>\n",
       "      <td>2019-09-20 18:05</td>\n",
       "      <td>Elvis Presley</td>\n",
       "      <td>From a Jack to a King</td>\n",
       "      <td>147973</td>\n",
       "    </tr>\n",
       "    <tr>\n",
       "      <th>1</th>\n",
       "      <td>2019-09-20 18:08</td>\n",
       "      <td>Elvis Presley</td>\n",
       "      <td>From a Jack to a King</td>\n",
       "      <td>147973</td>\n",
       "    </tr>\n",
       "    <tr>\n",
       "      <th>2</th>\n",
       "      <td>2019-09-20 18:26</td>\n",
       "      <td>Marty Robbins</td>\n",
       "      <td>Devil Woman</td>\n",
       "      <td>130966</td>\n",
       "    </tr>\n",
       "    <tr>\n",
       "      <th>3</th>\n",
       "      <td>2019-09-21 17:49</td>\n",
       "      <td>Marty Robbins</td>\n",
       "      <td>Devil Woman</td>\n",
       "      <td>6843</td>\n",
       "    </tr>\n",
       "    <tr>\n",
       "      <th>4</th>\n",
       "      <td>2019-09-21 17:49</td>\n",
       "      <td>Jimi Hendrix</td>\n",
       "      <td>May This Be Love</td>\n",
       "      <td>39967</td>\n",
       "    </tr>\n",
       "  </tbody>\n",
       "</table>\n",
       "</div>"
      ],
      "text/plain": [
       "            endTime     artistName              trackName  msPlayed\n",
       "0  2019-09-20 18:05  Elvis Presley  From a Jack to a King    147973\n",
       "1  2019-09-20 18:08  Elvis Presley  From a Jack to a King    147973\n",
       "2  2019-09-20 18:26  Marty Robbins            Devil Woman    130966\n",
       "3  2019-09-21 17:49  Marty Robbins            Devil Woman      6843\n",
       "4  2019-09-21 17:49   Jimi Hendrix       May This Be Love     39967"
      ]
     },
     "execution_count": 160,
     "metadata": {},
     "output_type": "execute_result"
    }
   ],
   "source": [
    "hist.head()"
   ]
  },
  {
   "cell_type": "code",
   "execution_count": 161,
   "metadata": {},
   "outputs": [],
   "source": [
    "hist.to_csv('streaming_history.csv')"
   ]
  },
  {
   "cell_type": "markdown",
   "metadata": {},
   "source": [
    "### Get features for all songs that I listed to in the past year (2019 to 2020)"
   ]
  },
  {
   "cell_type": "code",
   "execution_count": 162,
   "metadata": {},
   "outputs": [],
   "source": [
    "my_songs = pd.read_csv(r'C:\\Users\\charl\\Python\\GitHub Projects\\Spotify_Project\\MyData\\my_2019_tracks.csv')"
   ]
  },
  {
   "cell_type": "code",
   "execution_count": 163,
   "metadata": {},
   "outputs": [
    {
     "data": {
      "text/html": [
       "<div>\n",
       "<style scoped>\n",
       "    .dataframe tbody tr th:only-of-type {\n",
       "        vertical-align: middle;\n",
       "    }\n",
       "\n",
       "    .dataframe tbody tr th {\n",
       "        vertical-align: top;\n",
       "    }\n",
       "\n",
       "    .dataframe thead th {\n",
       "        text-align: right;\n",
       "    }\n",
       "</style>\n",
       "<table border=\"1\" class=\"dataframe\">\n",
       "  <thead>\n",
       "    <tr style=\"text-align: right;\">\n",
       "      <th></th>\n",
       "      <th>Unnamed: 0</th>\n",
       "      <th>trackName</th>\n",
       "      <th>artistName</th>\n",
       "      <th>skip</th>\n",
       "      <th>play</th>\n",
       "      <th>like</th>\n",
       "    </tr>\n",
       "  </thead>\n",
       "  <tbody>\n",
       "    <tr>\n",
       "      <th>0</th>\n",
       "      <td>0</td>\n",
       "      <td>\"C\" is for Cookie</td>\n",
       "      <td>Cookie Monster</td>\n",
       "      <td>1</td>\n",
       "      <td>0</td>\n",
       "      <td>0</td>\n",
       "    </tr>\n",
       "    <tr>\n",
       "      <th>1</th>\n",
       "      <td>1</td>\n",
       "      <td>$ave Dat Money (feat. Fetty Wap &amp; Rich Homie Q...</td>\n",
       "      <td>Lil Dicky</td>\n",
       "      <td>1</td>\n",
       "      <td>1</td>\n",
       "      <td>0</td>\n",
       "    </tr>\n",
       "    <tr>\n",
       "      <th>2</th>\n",
       "      <td>2</td>\n",
       "      <td>'Round Here</td>\n",
       "      <td>IODONTPLAY</td>\n",
       "      <td>0</td>\n",
       "      <td>2</td>\n",
       "      <td>1</td>\n",
       "    </tr>\n",
       "    <tr>\n",
       "      <th>3</th>\n",
       "      <td>3</td>\n",
       "      <td>'Till I Collapse</td>\n",
       "      <td>Eminem</td>\n",
       "      <td>1</td>\n",
       "      <td>1</td>\n",
       "      <td>0</td>\n",
       "    </tr>\n",
       "    <tr>\n",
       "      <th>4</th>\n",
       "      <td>4</td>\n",
       "      <td>(Bonus) Air Canada</td>\n",
       "      <td>RiFF Raff &amp; DOLLABiLLGATES</td>\n",
       "      <td>0</td>\n",
       "      <td>2</td>\n",
       "      <td>1</td>\n",
       "    </tr>\n",
       "  </tbody>\n",
       "</table>\n",
       "</div>"
      ],
      "text/plain": [
       "   Unnamed: 0                                          trackName  \\\n",
       "0           0                                  \"C\" is for Cookie   \n",
       "1           1  $ave Dat Money (feat. Fetty Wap & Rich Homie Q...   \n",
       "2           2                                        'Round Here   \n",
       "3           3                                   'Till I Collapse   \n",
       "4           4                                 (Bonus) Air Canada   \n",
       "\n",
       "                   artistName  skip  play  like  \n",
       "0              Cookie Monster     1     0     0  \n",
       "1                   Lil Dicky     1     1     0  \n",
       "2                  IODONTPLAY     0     2     1  \n",
       "3                      Eminem     1     1     0  \n",
       "4  RiFF Raff & DOLLABiLLGATES     0     2     1  "
      ]
     },
     "execution_count": 163,
     "metadata": {},
     "output_type": "execute_result"
    }
   ],
   "source": [
    "my_songs.head()"
   ]
  },
  {
   "cell_type": "code",
   "execution_count": 164,
   "metadata": {},
   "outputs": [],
   "source": [
    "#Now filter out songs that have not been played more than once\n",
    "my_songs = my_songs[(my_songs['play']>1)|(my_songs['skip']>1)].reset_index()"
   ]
  },
  {
   "cell_type": "code",
   "execution_count": 165,
   "metadata": {},
   "outputs": [
    {
     "data": {
      "text/plain": [
       "1837"
      ]
     },
     "execution_count": 165,
     "metadata": {},
     "output_type": "execute_result"
    }
   ],
   "source": [
    "len(my_songs)"
   ]
  },
  {
   "cell_type": "code",
   "execution_count": 166,
   "metadata": {},
   "outputs": [
    {
     "data": {
      "text/plain": [
       "(\"'Round Here\", 'IODONTPLAY')"
      ]
     },
     "execution_count": 166,
     "metadata": {},
     "output_type": "execute_result"
    }
   ],
   "source": [
    "#Create list that includes song name and artist in each item\n",
    "songs= my_songs['trackName']\n",
    "artists= my_songs['artistName']\n",
    "\n",
    "combined = list(zip(songs,artists))\n",
    "combined[0]"
   ]
  },
  {
   "cell_type": "code",
   "execution_count": 167,
   "metadata": {},
   "outputs": [],
   "source": [
    "def get_track_id(zipped):\n",
    "    #Get track info in dict format\n",
    "    artist = zipped[1]\n",
    "    track = zipped[0]\n",
    "    track_id = sp.search(q='artist:' + artist + ' track:' + track, type='track')\n",
    "    \n",
    "    #Sort through the dict\n",
    "    track = track_id['tracks']['items']\n",
    "    \n",
    "    #The dict stops and turns into a long ass string so we need to be creative\n",
    "    #Turn into string and pull all characters after 'tracks' appears in the url\n",
    "    mystring =  str(track)\n",
    "    keyword = '/tracks/'\n",
    "    before_keyword, keyword, after_keyword = mystring.partition(keyword)\n",
    "    \n",
    "    #Extract the song id\n",
    "    lsty = list(after_keyword.split(\",\"))\n",
    "    track_id = lsty[0][0:-1]\n",
    "\n",
    "    track_id\n",
    "    return track_id"
   ]
  },
  {
   "cell_type": "code",
   "execution_count": 168,
   "metadata": {},
   "outputs": [],
   "source": [
    "#Get all of the track_ids for the tracks I have listened to in the past year\n",
    "def get_song_ids(combined_songs_artist):\n",
    "    song_ids=[]\n",
    "    for i in combined_songs_artist:\n",
    "        track_id = get_track_id(i)\n",
    "        song_ids.append(track_id)\n",
    "    return song_ids"
   ]
  },
  {
   "cell_type": "code",
   "execution_count": 169,
   "metadata": {},
   "outputs": [],
   "source": [
    "song_ids = get_song_ids(combined)"
   ]
  },
  {
   "cell_type": "markdown",
   "metadata": {},
   "source": [
    "### Now create a dataframe with these columns, append all the track info, then delete the unnecessessary columns"
   ]
  },
  {
   "cell_type": "code",
   "execution_count": 170,
   "metadata": {},
   "outputs": [],
   "source": [
    "def create_audio_df(song_ids):\n",
    "    #Create first row of df with song features\n",
    "    df = pd.DataFrame.from_dict(sp.audio_features(tracks= song_ids[0]))\n",
    "    #Add all other songs and their features to the df\n",
    "    for i in song_ids[1:]:\n",
    "        df =  df.append(pd.DataFrame.from_dict(sp.audio_features(tracks = i)))\n",
    "    return df"
   ]
  },
  {
   "cell_type": "code",
   "execution_count": 171,
   "metadata": {},
   "outputs": [],
   "source": [
    "my_songs_full = create_audio_df(song_ids)"
   ]
  },
  {
   "cell_type": "code",
   "execution_count": 172,
   "metadata": {},
   "outputs": [
    {
     "data": {
      "text/plain": [
       "1837"
      ]
     },
     "execution_count": 172,
     "metadata": {},
     "output_type": "execute_result"
    }
   ],
   "source": [
    "len(my_songs_full)"
   ]
  },
  {
   "cell_type": "code",
   "execution_count": 173,
   "metadata": {},
   "outputs": [
    {
     "data": {
      "text/plain": [
       "1837"
      ]
     },
     "execution_count": 173,
     "metadata": {},
     "output_type": "execute_result"
    }
   ],
   "source": [
    "len(song_ids)"
   ]
  },
  {
   "cell_type": "code",
   "execution_count": 174,
   "metadata": {},
   "outputs": [],
   "source": [
    "my_songs_full.drop(columns = ['analysis_url','track_href','type','uri'],inplace=True)"
   ]
  },
  {
   "cell_type": "code",
   "execution_count": 175,
   "metadata": {},
   "outputs": [],
   "source": [
    "my_songs_full = my_songs_full.set_index('id').reset_index()"
   ]
  },
  {
   "cell_type": "code",
   "execution_count": 176,
   "metadata": {},
   "outputs": [],
   "source": [
    "my_songs_full.drop(columns = 0,inplace=True)"
   ]
  },
  {
   "cell_type": "code",
   "execution_count": 177,
   "metadata": {},
   "outputs": [
    {
     "data": {
      "text/html": [
       "<div>\n",
       "<style scoped>\n",
       "    .dataframe tbody tr th:only-of-type {\n",
       "        vertical-align: middle;\n",
       "    }\n",
       "\n",
       "    .dataframe tbody tr th {\n",
       "        vertical-align: top;\n",
       "    }\n",
       "\n",
       "    .dataframe thead th {\n",
       "        text-align: right;\n",
       "    }\n",
       "</style>\n",
       "<table border=\"1\" class=\"dataframe\">\n",
       "  <thead>\n",
       "    <tr style=\"text-align: right;\">\n",
       "      <th></th>\n",
       "      <th>id</th>\n",
       "      <th>acousticness</th>\n",
       "      <th>danceability</th>\n",
       "      <th>duration_ms</th>\n",
       "      <th>energy</th>\n",
       "      <th>instrumentalness</th>\n",
       "      <th>key</th>\n",
       "      <th>liveness</th>\n",
       "      <th>loudness</th>\n",
       "      <th>mode</th>\n",
       "      <th>speechiness</th>\n",
       "      <th>tempo</th>\n",
       "      <th>time_signature</th>\n",
       "      <th>valence</th>\n",
       "    </tr>\n",
       "  </thead>\n",
       "  <tbody>\n",
       "    <tr>\n",
       "      <th>1832</th>\n",
       "      <td>1Ci4wASMY4xtKVMeHA6Sd5</td>\n",
       "      <td>0.3600</td>\n",
       "      <td>0.744</td>\n",
       "      <td>286236.0</td>\n",
       "      <td>0.5890</td>\n",
       "      <td>0.000</td>\n",
       "      <td>5.0</td>\n",
       "      <td>0.1190</td>\n",
       "      <td>-1.218</td>\n",
       "      <td>0.0</td>\n",
       "      <td>0.0359</td>\n",
       "      <td>127.051</td>\n",
       "      <td>4.0</td>\n",
       "      <td>0.242</td>\n",
       "    </tr>\n",
       "    <tr>\n",
       "      <th>1833</th>\n",
       "      <td>2Zy7XVdxyZQB8xp5xbpJdl</td>\n",
       "      <td>0.2220</td>\n",
       "      <td>0.396</td>\n",
       "      <td>272501.0</td>\n",
       "      <td>0.5540</td>\n",
       "      <td>0.000</td>\n",
       "      <td>0.0</td>\n",
       "      <td>0.6120</td>\n",
       "      <td>-5.048</td>\n",
       "      <td>1.0</td>\n",
       "      <td>0.0488</td>\n",
       "      <td>117.384</td>\n",
       "      <td>4.0</td>\n",
       "      <td>0.170</td>\n",
       "    </tr>\n",
       "    <tr>\n",
       "      <th>1834</th>\n",
       "      <td>1cZlBZwnwGPtYeRIeQcoFh</td>\n",
       "      <td>0.0737</td>\n",
       "      <td>0.769</td>\n",
       "      <td>216946.0</td>\n",
       "      <td>0.5690</td>\n",
       "      <td>0.000</td>\n",
       "      <td>1.0</td>\n",
       "      <td>0.0571</td>\n",
       "      <td>-5.591</td>\n",
       "      <td>0.0</td>\n",
       "      <td>0.0786</td>\n",
       "      <td>146.062</td>\n",
       "      <td>4.0</td>\n",
       "      <td>0.612</td>\n",
       "    </tr>\n",
       "    <tr>\n",
       "      <th>1835</th>\n",
       "      <td>7pQi9lwATNWDfNwtyMXUtm</td>\n",
       "      <td>0.0572</td>\n",
       "      <td>0.844</td>\n",
       "      <td>222573.0</td>\n",
       "      <td>0.4880</td>\n",
       "      <td>0.000</td>\n",
       "      <td>4.0</td>\n",
       "      <td>0.2090</td>\n",
       "      <td>-7.834</td>\n",
       "      <td>0.0</td>\n",
       "      <td>0.2550</td>\n",
       "      <td>102.011</td>\n",
       "      <td>4.0</td>\n",
       "      <td>0.298</td>\n",
       "    </tr>\n",
       "    <tr>\n",
       "      <th>1836</th>\n",
       "      <td>1gU5jNTPxkrF52O7vUTWzR</td>\n",
       "      <td>0.9950</td>\n",
       "      <td>0.484</td>\n",
       "      <td>152933.0</td>\n",
       "      <td>0.0111</td>\n",
       "      <td>0.878</td>\n",
       "      <td>0.0</td>\n",
       "      <td>0.0556</td>\n",
       "      <td>-36.334</td>\n",
       "      <td>1.0</td>\n",
       "      <td>0.0384</td>\n",
       "      <td>121.708</td>\n",
       "      <td>4.0</td>\n",
       "      <td>0.200</td>\n",
       "    </tr>\n",
       "  </tbody>\n",
       "</table>\n",
       "</div>"
      ],
      "text/plain": [
       "                          id  acousticness  danceability  duration_ms  energy  \\\n",
       "1832  1Ci4wASMY4xtKVMeHA6Sd5        0.3600         0.744     286236.0  0.5890   \n",
       "1833  2Zy7XVdxyZQB8xp5xbpJdl        0.2220         0.396     272501.0  0.5540   \n",
       "1834  1cZlBZwnwGPtYeRIeQcoFh        0.0737         0.769     216946.0  0.5690   \n",
       "1835  7pQi9lwATNWDfNwtyMXUtm        0.0572         0.844     222573.0  0.4880   \n",
       "1836  1gU5jNTPxkrF52O7vUTWzR        0.9950         0.484     152933.0  0.0111   \n",
       "\n",
       "      instrumentalness  key  liveness  loudness  mode  speechiness    tempo  \\\n",
       "1832             0.000  5.0    0.1190    -1.218   0.0       0.0359  127.051   \n",
       "1833             0.000  0.0    0.6120    -5.048   1.0       0.0488  117.384   \n",
       "1834             0.000  1.0    0.0571    -5.591   0.0       0.0786  146.062   \n",
       "1835             0.000  4.0    0.2090    -7.834   0.0       0.2550  102.011   \n",
       "1836             0.878  0.0    0.0556   -36.334   1.0       0.0384  121.708   \n",
       "\n",
       "      time_signature  valence  \n",
       "1832             4.0    0.242  \n",
       "1833             4.0    0.170  \n",
       "1834             4.0    0.612  \n",
       "1835             4.0    0.298  \n",
       "1836             4.0    0.200  "
      ]
     },
     "execution_count": 177,
     "metadata": {},
     "output_type": "execute_result"
    }
   ],
   "source": [
    "my_songs_full.tail()"
   ]
  },
  {
   "cell_type": "code",
   "execution_count": 178,
   "metadata": {},
   "outputs": [],
   "source": [
    "my_songs_full[['trackName','artistName']] = my_songs[['trackName','artistName']]"
   ]
  },
  {
   "cell_type": "code",
   "execution_count": 179,
   "metadata": {},
   "outputs": [
    {
     "data": {
      "text/html": [
       "<div>\n",
       "<style scoped>\n",
       "    .dataframe tbody tr th:only-of-type {\n",
       "        vertical-align: middle;\n",
       "    }\n",
       "\n",
       "    .dataframe tbody tr th {\n",
       "        vertical-align: top;\n",
       "    }\n",
       "\n",
       "    .dataframe thead th {\n",
       "        text-align: right;\n",
       "    }\n",
       "</style>\n",
       "<table border=\"1\" class=\"dataframe\">\n",
       "  <thead>\n",
       "    <tr style=\"text-align: right;\">\n",
       "      <th></th>\n",
       "      <th>id</th>\n",
       "      <th>acousticness</th>\n",
       "      <th>danceability</th>\n",
       "      <th>duration_ms</th>\n",
       "      <th>energy</th>\n",
       "      <th>instrumentalness</th>\n",
       "      <th>key</th>\n",
       "      <th>liveness</th>\n",
       "      <th>loudness</th>\n",
       "      <th>mode</th>\n",
       "      <th>speechiness</th>\n",
       "      <th>tempo</th>\n",
       "      <th>time_signature</th>\n",
       "      <th>valence</th>\n",
       "      <th>trackName</th>\n",
       "      <th>artistName</th>\n",
       "    </tr>\n",
       "  </thead>\n",
       "  <tbody>\n",
       "    <tr>\n",
       "      <th>0</th>\n",
       "      <td>5Le9sSLxWIaIEPPppZ9EuF</td>\n",
       "      <td>0.3300</td>\n",
       "      <td>0.673</td>\n",
       "      <td>254118.0</td>\n",
       "      <td>0.8000</td>\n",
       "      <td>0.0000</td>\n",
       "      <td>7.0</td>\n",
       "      <td>0.689</td>\n",
       "      <td>-6.253</td>\n",
       "      <td>1.0</td>\n",
       "      <td>0.2140</td>\n",
       "      <td>135.997</td>\n",
       "      <td>4.0</td>\n",
       "      <td>0.268</td>\n",
       "      <td>'Round Here</td>\n",
       "      <td>IODONTPLAY</td>\n",
       "    </tr>\n",
       "    <tr>\n",
       "      <th>1</th>\n",
       "      <td>5F7bIFd3xWuoXmvXFqFl5M</td>\n",
       "      <td>0.0825</td>\n",
       "      <td>0.744</td>\n",
       "      <td>365950.0</td>\n",
       "      <td>0.5700</td>\n",
       "      <td>0.0000</td>\n",
       "      <td>3.0</td>\n",
       "      <td>0.121</td>\n",
       "      <td>-4.359</td>\n",
       "      <td>0.0</td>\n",
       "      <td>0.0357</td>\n",
       "      <td>75.019</td>\n",
       "      <td>4.0</td>\n",
       "      <td>0.600</td>\n",
       "      <td>(Bonus) Air Canada</td>\n",
       "      <td>RiFF Raff &amp; DOLLABiLLGATES</td>\n",
       "    </tr>\n",
       "    <tr>\n",
       "      <th>2</th>\n",
       "      <td>2PzU4IB8Dr6mxV3lHuaG34</td>\n",
       "      <td>0.0383</td>\n",
       "      <td>0.723</td>\n",
       "      <td>222813.0</td>\n",
       "      <td>0.8630</td>\n",
       "      <td>0.0317</td>\n",
       "      <td>2.0</td>\n",
       "      <td>0.128</td>\n",
       "      <td>-7.890</td>\n",
       "      <td>1.0</td>\n",
       "      <td>0.0338</td>\n",
       "      <td>136.302</td>\n",
       "      <td>4.0</td>\n",
       "      <td>0.931</td>\n",
       "      <td>(I Can't Get No) Satisfaction - Mono Version</td>\n",
       "      <td>The Rolling Stones</td>\n",
       "    </tr>\n",
       "    <tr>\n",
       "      <th>3</th>\n",
       "      <td>3qLfQNPEE27KI3Hgd9Om8A</td>\n",
       "      <td>0.9910</td>\n",
       "      <td>0.295</td>\n",
       "      <td>135653.0</td>\n",
       "      <td>0.0706</td>\n",
       "      <td>0.9200</td>\n",
       "      <td>9.0</td>\n",
       "      <td>0.101</td>\n",
       "      <td>-20.157</td>\n",
       "      <td>0.0</td>\n",
       "      <td>0.0439</td>\n",
       "      <td>76.425</td>\n",
       "      <td>1.0</td>\n",
       "      <td>0.139</td>\n",
       "      <td>(prelude)</td>\n",
       "      <td>Zachary Bruno</td>\n",
       "    </tr>\n",
       "    <tr>\n",
       "      <th>4</th>\n",
       "      <td>4txn9qnwK3ILQqv5oq2mO3</td>\n",
       "      <td>0.3880</td>\n",
       "      <td>0.519</td>\n",
       "      <td>264213.0</td>\n",
       "      <td>0.8090</td>\n",
       "      <td>0.0000</td>\n",
       "      <td>1.0</td>\n",
       "      <td>0.275</td>\n",
       "      <td>-6.362</td>\n",
       "      <td>1.0</td>\n",
       "      <td>0.5560</td>\n",
       "      <td>146.020</td>\n",
       "      <td>4.0</td>\n",
       "      <td>0.262</td>\n",
       "      <td>03' Adolescence</td>\n",
       "      <td>J. Cole</td>\n",
       "    </tr>\n",
       "  </tbody>\n",
       "</table>\n",
       "</div>"
      ],
      "text/plain": [
       "                       id  acousticness  danceability  duration_ms  energy  \\\n",
       "0  5Le9sSLxWIaIEPPppZ9EuF        0.3300         0.673     254118.0  0.8000   \n",
       "1  5F7bIFd3xWuoXmvXFqFl5M        0.0825         0.744     365950.0  0.5700   \n",
       "2  2PzU4IB8Dr6mxV3lHuaG34        0.0383         0.723     222813.0  0.8630   \n",
       "3  3qLfQNPEE27KI3Hgd9Om8A        0.9910         0.295     135653.0  0.0706   \n",
       "4  4txn9qnwK3ILQqv5oq2mO3        0.3880         0.519     264213.0  0.8090   \n",
       "\n",
       "   instrumentalness  key  liveness  loudness  mode  speechiness    tempo  \\\n",
       "0            0.0000  7.0     0.689    -6.253   1.0       0.2140  135.997   \n",
       "1            0.0000  3.0     0.121    -4.359   0.0       0.0357   75.019   \n",
       "2            0.0317  2.0     0.128    -7.890   1.0       0.0338  136.302   \n",
       "3            0.9200  9.0     0.101   -20.157   0.0       0.0439   76.425   \n",
       "4            0.0000  1.0     0.275    -6.362   1.0       0.5560  146.020   \n",
       "\n",
       "   time_signature  valence                                     trackName  \\\n",
       "0             4.0    0.268                                   'Round Here   \n",
       "1             4.0    0.600                            (Bonus) Air Canada   \n",
       "2             4.0    0.931  (I Can't Get No) Satisfaction - Mono Version   \n",
       "3             1.0    0.139                                     (prelude)   \n",
       "4             4.0    0.262                               03' Adolescence   \n",
       "\n",
       "                   artistName  \n",
       "0                  IODONTPLAY  \n",
       "1  RiFF Raff & DOLLABiLLGATES  \n",
       "2          The Rolling Stones  \n",
       "3               Zachary Bruno  \n",
       "4                     J. Cole  "
      ]
     },
     "execution_count": 179,
     "metadata": {},
     "output_type": "execute_result"
    }
   ],
   "source": [
    "my_songs_full.head()"
   ]
  },
  {
   "cell_type": "code",
   "execution_count": 182,
   "metadata": {},
   "outputs": [],
   "source": [
    "my_songs_full.to_csv(r'C:\\Users\\charl\\Python\\GitHub Projects\\Spotify_Project\\MyData\\songs_for_personal_analysis.csv')"
   ]
  }
 ],
 "metadata": {
  "kernelspec": {
   "display_name": "Python 3",
   "language": "python",
   "name": "python3"
  },
  "language_info": {
   "codemirror_mode": {
    "name": "ipython",
    "version": 3
   },
   "file_extension": ".py",
   "mimetype": "text/x-python",
   "name": "python",
   "nbconvert_exporter": "python",
   "pygments_lexer": "ipython3",
   "version": "3.7.6"
  }
 },
 "nbformat": 4,
 "nbformat_minor": 4
}
