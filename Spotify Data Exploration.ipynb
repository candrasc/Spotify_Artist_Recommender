{
 "cells": [
  {
   "cell_type": "code",
   "execution_count": 2,
   "metadata": {},
   "outputs": [],
   "source": [
    "import pandas as pd\n",
    "import numpy as np\n",
    "import matplotlib.pyplot as plt\n",
    "plt.style.use('fivethirtyeight')\n",
    "import seaborn as sns"
   ]
  },
  {
   "cell_type": "code",
   "execution_count": 3,
   "metadata": {},
   "outputs": [],
   "source": [
    "#all_songs of 5000 songs from a large spotify playlist\n",
    "all_songs = pd.read_csv(r'C:\\Users\\charl\\Python\\GitHub Projects\\Spotify_Project\\MyData\\biggest_playlist_ever.csv')\n",
    "\n",
    "#Our song history for the last year\n",
    "hist = pd.read_csv(r'C:\\Users\\charl\\Python\\GitHub Projects\\Spotify_Project\\MyData\\streaming_history.csv') "
   ]
  },
  {
   "cell_type": "code",
   "execution_count": 4,
   "metadata": {},
   "outputs": [],
   "source": [
    "all_songs.drop(columns = 'Unnamed: 0', inplace=True)"
   ]
  },
  {
   "cell_type": "markdown",
   "metadata": {},
   "source": [
    "### Feature Descriptions:\n",
    "\n",
    "acousticness — how acoustic\n",
    "\n",
    "danceability — self-explanatory\n",
    "\n",
    "energy — how 'fast, loud an noisy'\n",
    "\n",
    "instrumentalness — the less vocals, the higher\n",
    "\n",
    "liveness — whether there is audience in the recording\n",
    "\n",
    "loudness — self-explanatory\n",
    "\n",
    "speechiness — the more spoken words, the higher\n",
    "\n",
    "valence — whether the track sounds happy or sad\n",
    "\n",
    "tempo — the bpm"
   ]
  },
  {
   "cell_type": "code",
   "execution_count": 5,
   "metadata": {},
   "outputs": [
    {
     "data": {
      "text/html": [
       "<div>\n",
       "<style scoped>\n",
       "    .dataframe tbody tr th:only-of-type {\n",
       "        vertical-align: middle;\n",
       "    }\n",
       "\n",
       "    .dataframe tbody tr th {\n",
       "        vertical-align: top;\n",
       "    }\n",
       "\n",
       "    .dataframe thead th {\n",
       "        text-align: right;\n",
       "    }\n",
       "</style>\n",
       "<table border=\"1\" class=\"dataframe\">\n",
       "  <thead>\n",
       "    <tr style=\"text-align: right;\">\n",
       "      <th></th>\n",
       "      <th>artist</th>\n",
       "      <th>album</th>\n",
       "      <th>track_name</th>\n",
       "      <th>track_id</th>\n",
       "      <th>danceability</th>\n",
       "      <th>energy</th>\n",
       "      <th>key</th>\n",
       "      <th>loudness</th>\n",
       "      <th>mode</th>\n",
       "      <th>speechiness</th>\n",
       "      <th>instrumentalness</th>\n",
       "      <th>liveness</th>\n",
       "      <th>valence</th>\n",
       "      <th>tempo</th>\n",
       "      <th>duration_ms</th>\n",
       "      <th>time_signature</th>\n",
       "    </tr>\n",
       "  </thead>\n",
       "  <tbody>\n",
       "    <tr>\n",
       "      <th>0</th>\n",
       "      <td>Hozier</td>\n",
       "      <td>Hozier (Deluxe)</td>\n",
       "      <td>Take Me To Church</td>\n",
       "      <td>7dS5EaCoMnN7DzlpT6aRn2</td>\n",
       "      <td>0.566</td>\n",
       "      <td>0.664</td>\n",
       "      <td>4</td>\n",
       "      <td>-5.303</td>\n",
       "      <td>0</td>\n",
       "      <td>0.0464</td>\n",
       "      <td>0.000000</td>\n",
       "      <td>0.116</td>\n",
       "      <td>0.437</td>\n",
       "      <td>128.945</td>\n",
       "      <td>241688</td>\n",
       "      <td>4</td>\n",
       "    </tr>\n",
       "    <tr>\n",
       "      <th>1</th>\n",
       "      <td>Mike Posner</td>\n",
       "      <td>31 Minutes to Takeoff</td>\n",
       "      <td>Cooler Than Me - Single Mix</td>\n",
       "      <td>2V4bv1fNWfTcyRJKmej6Sj</td>\n",
       "      <td>0.768</td>\n",
       "      <td>0.820</td>\n",
       "      <td>7</td>\n",
       "      <td>-4.630</td>\n",
       "      <td>0</td>\n",
       "      <td>0.0475</td>\n",
       "      <td>0.000000</td>\n",
       "      <td>0.704</td>\n",
       "      <td>0.625</td>\n",
       "      <td>129.969</td>\n",
       "      <td>213293</td>\n",
       "      <td>4</td>\n",
       "    </tr>\n",
       "    <tr>\n",
       "      <th>2</th>\n",
       "      <td>Tyler, The Creator</td>\n",
       "      <td>Flower Boy</td>\n",
       "      <td>See You Again (feat. Kali Uchis)</td>\n",
       "      <td>7KA4W4McWYRpgf0fWsJZWB</td>\n",
       "      <td>0.558</td>\n",
       "      <td>0.559</td>\n",
       "      <td>6</td>\n",
       "      <td>-9.222</td>\n",
       "      <td>1</td>\n",
       "      <td>0.0959</td>\n",
       "      <td>0.000007</td>\n",
       "      <td>0.109</td>\n",
       "      <td>0.620</td>\n",
       "      <td>78.558</td>\n",
       "      <td>180387</td>\n",
       "      <td>4</td>\n",
       "    </tr>\n",
       "    <tr>\n",
       "      <th>3</th>\n",
       "      <td>Bastille</td>\n",
       "      <td>Bad Blood</td>\n",
       "      <td>Pompeii</td>\n",
       "      <td>3gbBpTdY8lnQwqxNCcf795</td>\n",
       "      <td>0.679</td>\n",
       "      <td>0.715</td>\n",
       "      <td>9</td>\n",
       "      <td>-6.383</td>\n",
       "      <td>1</td>\n",
       "      <td>0.0407</td>\n",
       "      <td>0.000000</td>\n",
       "      <td>0.271</td>\n",
       "      <td>0.571</td>\n",
       "      <td>127.435</td>\n",
       "      <td>214148</td>\n",
       "      <td>4</td>\n",
       "    </tr>\n",
       "    <tr>\n",
       "      <th>4</th>\n",
       "      <td>Shakira</td>\n",
       "      <td>Oral Fixation, Vol. 2 (Expanded Edition)</td>\n",
       "      <td>Hips Don't Lie (feat. Wyclef Jean)</td>\n",
       "      <td>3ZFTkvIE7kyPt6Nu3PEa7V</td>\n",
       "      <td>0.778</td>\n",
       "      <td>0.824</td>\n",
       "      <td>10</td>\n",
       "      <td>-5.892</td>\n",
       "      <td>0</td>\n",
       "      <td>0.0712</td>\n",
       "      <td>0.000000</td>\n",
       "      <td>0.405</td>\n",
       "      <td>0.756</td>\n",
       "      <td>100.024</td>\n",
       "      <td>218093</td>\n",
       "      <td>4</td>\n",
       "    </tr>\n",
       "  </tbody>\n",
       "</table>\n",
       "</div>"
      ],
      "text/plain": [
       "               artist                                     album  \\\n",
       "0              Hozier                           Hozier (Deluxe)   \n",
       "1         Mike Posner                     31 Minutes to Takeoff   \n",
       "2  Tyler, The Creator                                Flower Boy   \n",
       "3            Bastille                                 Bad Blood   \n",
       "4             Shakira  Oral Fixation, Vol. 2 (Expanded Edition)   \n",
       "\n",
       "                           track_name                track_id  danceability  \\\n",
       "0                   Take Me To Church  7dS5EaCoMnN7DzlpT6aRn2         0.566   \n",
       "1         Cooler Than Me - Single Mix  2V4bv1fNWfTcyRJKmej6Sj         0.768   \n",
       "2    See You Again (feat. Kali Uchis)  7KA4W4McWYRpgf0fWsJZWB         0.558   \n",
       "3                             Pompeii  3gbBpTdY8lnQwqxNCcf795         0.679   \n",
       "4  Hips Don't Lie (feat. Wyclef Jean)  3ZFTkvIE7kyPt6Nu3PEa7V         0.778   \n",
       "\n",
       "   energy  key  loudness  mode  speechiness  instrumentalness  liveness  \\\n",
       "0   0.664    4    -5.303     0       0.0464          0.000000     0.116   \n",
       "1   0.820    7    -4.630     0       0.0475          0.000000     0.704   \n",
       "2   0.559    6    -9.222     1       0.0959          0.000007     0.109   \n",
       "3   0.715    9    -6.383     1       0.0407          0.000000     0.271   \n",
       "4   0.824   10    -5.892     0       0.0712          0.000000     0.405   \n",
       "\n",
       "   valence    tempo  duration_ms  time_signature  \n",
       "0    0.437  128.945       241688               4  \n",
       "1    0.625  129.969       213293               4  \n",
       "2    0.620   78.558       180387               4  \n",
       "3    0.571  127.435       214148               4  \n",
       "4    0.756  100.024       218093               4  "
      ]
     },
     "execution_count": 5,
     "metadata": {},
     "output_type": "execute_result"
    }
   ],
   "source": [
    "all_songs.head()"
   ]
  },
  {
   "cell_type": "code",
   "execution_count": 6,
   "metadata": {},
   "outputs": [
    {
     "data": {
      "text/html": [
       "<div>\n",
       "<style scoped>\n",
       "    .dataframe tbody tr th:only-of-type {\n",
       "        vertical-align: middle;\n",
       "    }\n",
       "\n",
       "    .dataframe tbody tr th {\n",
       "        vertical-align: top;\n",
       "    }\n",
       "\n",
       "    .dataframe thead th {\n",
       "        text-align: right;\n",
       "    }\n",
       "</style>\n",
       "<table border=\"1\" class=\"dataframe\">\n",
       "  <thead>\n",
       "    <tr style=\"text-align: right;\">\n",
       "      <th></th>\n",
       "      <th>danceability</th>\n",
       "      <th>energy</th>\n",
       "      <th>key</th>\n",
       "      <th>loudness</th>\n",
       "      <th>mode</th>\n",
       "      <th>speechiness</th>\n",
       "      <th>instrumentalness</th>\n",
       "      <th>liveness</th>\n",
       "      <th>valence</th>\n",
       "      <th>tempo</th>\n",
       "      <th>duration_ms</th>\n",
       "      <th>time_signature</th>\n",
       "    </tr>\n",
       "  </thead>\n",
       "  <tbody>\n",
       "    <tr>\n",
       "      <th>count</th>\n",
       "      <td>4778.000000</td>\n",
       "      <td>4778.000000</td>\n",
       "      <td>4778.000000</td>\n",
       "      <td>4778.000000</td>\n",
       "      <td>4778.00000</td>\n",
       "      <td>4778.000000</td>\n",
       "      <td>4778.000000</td>\n",
       "      <td>4778.000000</td>\n",
       "      <td>4778.000000</td>\n",
       "      <td>4778.000000</td>\n",
       "      <td>4778.000000</td>\n",
       "      <td>4778.000000</td>\n",
       "    </tr>\n",
       "    <tr>\n",
       "      <th>mean</th>\n",
       "      <td>0.665172</td>\n",
       "      <td>0.704004</td>\n",
       "      <td>5.277313</td>\n",
       "      <td>-5.951100</td>\n",
       "      <td>0.54437</td>\n",
       "      <td>0.101530</td>\n",
       "      <td>0.025833</td>\n",
       "      <td>0.186847</td>\n",
       "      <td>0.517490</td>\n",
       "      <td>122.395019</td>\n",
       "      <td>214115.793219</td>\n",
       "      <td>3.981373</td>\n",
       "    </tr>\n",
       "    <tr>\n",
       "      <th>std</th>\n",
       "      <td>0.133964</td>\n",
       "      <td>0.166000</td>\n",
       "      <td>3.637360</td>\n",
       "      <td>2.309387</td>\n",
       "      <td>0.49808</td>\n",
       "      <td>0.094818</td>\n",
       "      <td>0.123286</td>\n",
       "      <td>0.141607</td>\n",
       "      <td>0.228923</td>\n",
       "      <td>26.283774</td>\n",
       "      <td>41643.729964</td>\n",
       "      <td>0.232101</td>\n",
       "    </tr>\n",
       "    <tr>\n",
       "      <th>min</th>\n",
       "      <td>0.000000</td>\n",
       "      <td>0.045200</td>\n",
       "      <td>0.000000</td>\n",
       "      <td>-23.212000</td>\n",
       "      <td>0.00000</td>\n",
       "      <td>0.000000</td>\n",
       "      <td>0.000000</td>\n",
       "      <td>0.019300</td>\n",
       "      <td>0.000000</td>\n",
       "      <td>0.000000</td>\n",
       "      <td>25260.000000</td>\n",
       "      <td>0.000000</td>\n",
       "    </tr>\n",
       "    <tr>\n",
       "      <th>25%</th>\n",
       "      <td>0.581000</td>\n",
       "      <td>0.599000</td>\n",
       "      <td>2.000000</td>\n",
       "      <td>-6.985000</td>\n",
       "      <td>0.00000</td>\n",
       "      <td>0.040400</td>\n",
       "      <td>0.000000</td>\n",
       "      <td>0.095100</td>\n",
       "      <td>0.341000</td>\n",
       "      <td>101.657500</td>\n",
       "      <td>190756.250000</td>\n",
       "      <td>4.000000</td>\n",
       "    </tr>\n",
       "    <tr>\n",
       "      <th>50%</th>\n",
       "      <td>0.671000</td>\n",
       "      <td>0.726000</td>\n",
       "      <td>5.000000</td>\n",
       "      <td>-5.595000</td>\n",
       "      <td>1.00000</td>\n",
       "      <td>0.061400</td>\n",
       "      <td>0.000000</td>\n",
       "      <td>0.130000</td>\n",
       "      <td>0.518000</td>\n",
       "      <td>123.939500</td>\n",
       "      <td>212620.000000</td>\n",
       "      <td>4.000000</td>\n",
       "    </tr>\n",
       "    <tr>\n",
       "      <th>75%</th>\n",
       "      <td>0.756000</td>\n",
       "      <td>0.828750</td>\n",
       "      <td>8.000000</td>\n",
       "      <td>-4.446250</td>\n",
       "      <td>1.00000</td>\n",
       "      <td>0.124000</td>\n",
       "      <td>0.000098</td>\n",
       "      <td>0.248000</td>\n",
       "      <td>0.698750</td>\n",
       "      <td>137.969500</td>\n",
       "      <td>234646.500000</td>\n",
       "      <td>4.000000</td>\n",
       "    </tr>\n",
       "    <tr>\n",
       "      <th>max</th>\n",
       "      <td>0.979000</td>\n",
       "      <td>1.000000</td>\n",
       "      <td>11.000000</td>\n",
       "      <td>0.175000</td>\n",
       "      <td>1.00000</td>\n",
       "      <td>0.889000</td>\n",
       "      <td>0.987000</td>\n",
       "      <td>0.957000</td>\n",
       "      <td>1.000000</td>\n",
       "      <td>210.857000</td>\n",
       "      <td>499960.000000</td>\n",
       "      <td>5.000000</td>\n",
       "    </tr>\n",
       "  </tbody>\n",
       "</table>\n",
       "</div>"
      ],
      "text/plain": [
       "       danceability       energy          key     loudness        mode  \\\n",
       "count   4778.000000  4778.000000  4778.000000  4778.000000  4778.00000   \n",
       "mean       0.665172     0.704004     5.277313    -5.951100     0.54437   \n",
       "std        0.133964     0.166000     3.637360     2.309387     0.49808   \n",
       "min        0.000000     0.045200     0.000000   -23.212000     0.00000   \n",
       "25%        0.581000     0.599000     2.000000    -6.985000     0.00000   \n",
       "50%        0.671000     0.726000     5.000000    -5.595000     1.00000   \n",
       "75%        0.756000     0.828750     8.000000    -4.446250     1.00000   \n",
       "max        0.979000     1.000000    11.000000     0.175000     1.00000   \n",
       "\n",
       "       speechiness  instrumentalness     liveness      valence        tempo  \\\n",
       "count  4778.000000       4778.000000  4778.000000  4778.000000  4778.000000   \n",
       "mean      0.101530          0.025833     0.186847     0.517490   122.395019   \n",
       "std       0.094818          0.123286     0.141607     0.228923    26.283774   \n",
       "min       0.000000          0.000000     0.019300     0.000000     0.000000   \n",
       "25%       0.040400          0.000000     0.095100     0.341000   101.657500   \n",
       "50%       0.061400          0.000000     0.130000     0.518000   123.939500   \n",
       "75%       0.124000          0.000098     0.248000     0.698750   137.969500   \n",
       "max       0.889000          0.987000     0.957000     1.000000   210.857000   \n",
       "\n",
       "         duration_ms  time_signature  \n",
       "count    4778.000000     4778.000000  \n",
       "mean   214115.793219        3.981373  \n",
       "std     41643.729964        0.232101  \n",
       "min     25260.000000        0.000000  \n",
       "25%    190756.250000        4.000000  \n",
       "50%    212620.000000        4.000000  \n",
       "75%    234646.500000        4.000000  \n",
       "max    499960.000000        5.000000  "
      ]
     },
     "execution_count": 6,
     "metadata": {},
     "output_type": "execute_result"
    }
   ],
   "source": [
    "all_songs.describe()"
   ]
  },
  {
   "cell_type": "code",
   "execution_count": 7,
   "metadata": {},
   "outputs": [
    {
     "data": {
      "text/plain": [
       "Text(0.5, 1, 'Song Feature Correlations')"
      ]
     },
     "execution_count": 7,
     "metadata": {},
     "output_type": "execute_result"
    },
    {
     "data": {
      "image/png": "[encoded data removed]",
      "text/plain": [
       "<Figure size 720x720 with 2 Axes>"
      ]
     },
     "metadata": {},
     "output_type": "display_data"
    }
   ],
   "source": [
    "fig = plt.figure(figsize = (10,10))\n",
    "sns.heatmap(all_songs.corr(),cmap = 'PiYG', center = 0)\n",
    "plt.title('Song Feature Correlations')"
   ]
  },
  {
   "cell_type": "code",
   "execution_count": 8,
   "metadata": {},
   "outputs": [
    {
     "data": {
      "text/plain": [
       "1449"
      ]
     },
     "execution_count": 8,
     "metadata": {},
     "output_type": "execute_result"
    }
   ],
   "source": [
    "#Out of 4778 songs, we have 1449 unique artists\n",
    "all_songs.artist.nunique()"
   ]
  },
  {
   "cell_type": "code",
   "execution_count": 9,
   "metadata": {},
   "outputs": [],
   "source": [
    "hist['seconds']=hist['msPlayed']/1000"
   ]
  },
  {
   "cell_type": "code",
   "execution_count": 10,
   "metadata": {},
   "outputs": [],
   "source": [
    "hist.drop(columns = 'msPlayed',inplace=True)"
   ]
  },
  {
   "cell_type": "code",
   "execution_count": 11,
   "metadata": {},
   "outputs": [
    {
     "data": {
      "text/html": [
       "<div>\n",
       "<style scoped>\n",
       "    .dataframe tbody tr th:only-of-type {\n",
       "        vertical-align: middle;\n",
       "    }\n",
       "\n",
       "    .dataframe tbody tr th {\n",
       "        vertical-align: top;\n",
       "    }\n",
       "\n",
       "    .dataframe thead th {\n",
       "        text-align: right;\n",
       "    }\n",
       "</style>\n",
       "<table border=\"1\" class=\"dataframe\">\n",
       "  <thead>\n",
       "    <tr style=\"text-align: right;\">\n",
       "      <th></th>\n",
       "      <th>Unnamed: 0</th>\n",
       "      <th>endTime</th>\n",
       "      <th>artistName</th>\n",
       "      <th>trackName</th>\n",
       "      <th>seconds</th>\n",
       "    </tr>\n",
       "  </thead>\n",
       "  <tbody>\n",
       "    <tr>\n",
       "      <th>0</th>\n",
       "      <td>0</td>\n",
       "      <td>2019-09-20 18:05</td>\n",
       "      <td>Elvis Presley</td>\n",
       "      <td>From a Jack to a King</td>\n",
       "      <td>147.973</td>\n",
       "    </tr>\n",
       "    <tr>\n",
       "      <th>1</th>\n",
       "      <td>1</td>\n",
       "      <td>2019-09-20 18:08</td>\n",
       "      <td>Elvis Presley</td>\n",
       "      <td>From a Jack to a King</td>\n",
       "      <td>147.973</td>\n",
       "    </tr>\n",
       "    <tr>\n",
       "      <th>2</th>\n",
       "      <td>2</td>\n",
       "      <td>2019-09-20 18:26</td>\n",
       "      <td>Marty Robbins</td>\n",
       "      <td>Devil Woman</td>\n",
       "      <td>130.966</td>\n",
       "    </tr>\n",
       "    <tr>\n",
       "      <th>3</th>\n",
       "      <td>3</td>\n",
       "      <td>2019-09-21 17:49</td>\n",
       "      <td>Marty Robbins</td>\n",
       "      <td>Devil Woman</td>\n",
       "      <td>6.843</td>\n",
       "    </tr>\n",
       "    <tr>\n",
       "      <th>4</th>\n",
       "      <td>4</td>\n",
       "      <td>2019-09-21 17:49</td>\n",
       "      <td>Jimi Hendrix</td>\n",
       "      <td>May This Be Love</td>\n",
       "      <td>39.967</td>\n",
       "    </tr>\n",
       "    <tr>\n",
       "      <th>...</th>\n",
       "      <td>...</td>\n",
       "      <td>...</td>\n",
       "      <td>...</td>\n",
       "      <td>...</td>\n",
       "      <td>...</td>\n",
       "    </tr>\n",
       "    <tr>\n",
       "      <th>8850</th>\n",
       "      <td>8850</td>\n",
       "      <td>2020-09-18 23:53</td>\n",
       "      <td>Future</td>\n",
       "      <td>Champagne Shower</td>\n",
       "      <td>189.910</td>\n",
       "    </tr>\n",
       "    <tr>\n",
       "      <th>8851</th>\n",
       "      <td>8851</td>\n",
       "      <td>2020-09-18 23:54</td>\n",
       "      <td>Lil Dicky</td>\n",
       "      <td>Classic Male Pregame</td>\n",
       "      <td>14.183</td>\n",
       "    </tr>\n",
       "    <tr>\n",
       "      <th>8852</th>\n",
       "      <td>8852</td>\n",
       "      <td>2020-09-18 23:54</td>\n",
       "      <td>MAKJ</td>\n",
       "      <td>Party Till We Die (feat. Andrew W.K.)</td>\n",
       "      <td>4.974</td>\n",
       "    </tr>\n",
       "    <tr>\n",
       "      <th>8853</th>\n",
       "      <td>8853</td>\n",
       "      <td>2020-09-18 23:54</td>\n",
       "      <td>ScHoolboy Q</td>\n",
       "      <td>Los Awesome</td>\n",
       "      <td>19.271</td>\n",
       "    </tr>\n",
       "    <tr>\n",
       "      <th>8854</th>\n",
       "      <td>8854</td>\n",
       "      <td>2020-09-18 23:56</td>\n",
       "      <td>Violent Femmes</td>\n",
       "      <td>Blister In The Sun</td>\n",
       "      <td>145.706</td>\n",
       "    </tr>\n",
       "  </tbody>\n",
       "</table>\n",
       "<p>8855 rows × 5 columns</p>\n",
       "</div>"
      ],
      "text/plain": [
       "      Unnamed: 0           endTime      artistName  \\\n",
       "0              0  2019-09-20 18:05   Elvis Presley   \n",
       "1              1  2019-09-20 18:08   Elvis Presley   \n",
       "2              2  2019-09-20 18:26   Marty Robbins   \n",
       "3              3  2019-09-21 17:49   Marty Robbins   \n",
       "4              4  2019-09-21 17:49    Jimi Hendrix   \n",
       "...          ...               ...             ...   \n",
       "8850        8850  2020-09-18 23:53          Future   \n",
       "8851        8851  2020-09-18 23:54       Lil Dicky   \n",
       "8852        8852  2020-09-18 23:54            MAKJ   \n",
       "8853        8853  2020-09-18 23:54     ScHoolboy Q   \n",
       "8854        8854  2020-09-18 23:56  Violent Femmes   \n",
       "\n",
       "                                  trackName  seconds  \n",
       "0                     From a Jack to a King  147.973  \n",
       "1                     From a Jack to a King  147.973  \n",
       "2                               Devil Woman  130.966  \n",
       "3                               Devil Woman    6.843  \n",
       "4                          May This Be Love   39.967  \n",
       "...                                     ...      ...  \n",
       "8850                       Champagne Shower  189.910  \n",
       "8851                   Classic Male Pregame   14.183  \n",
       "8852  Party Till We Die (feat. Andrew W.K.)    4.974  \n",
       "8853                            Los Awesome   19.271  \n",
       "8854                     Blister In The Sun  145.706  \n",
       "\n",
       "[8855 rows x 5 columns]"
      ]
     },
     "execution_count": 11,
     "metadata": {},
     "output_type": "execute_result"
    }
   ],
   "source": [
    "hist"
   ]
  },
  {
   "cell_type": "code",
   "execution_count": 37,
   "metadata": {},
   "outputs": [
    {
     "data": {
      "text/plain": [
       "Text(0.5, 1.0, 'Allowed Runtime History')"
      ]
     },
     "execution_count": 37,
     "metadata": {},
     "output_type": "execute_result"
    },
    {
     "data": {
      "image/png": "[encoded data removed]",
      "text/plain": [
       "<Figure size 432x288 with 1 Axes>"
      ]
     },
     "metadata": {},
     "output_type": "display_data"
    }
   ],
   "source": [
    "plt.hist(hist['seconds'],bins=20,range = (0,600), color = 'b', alpha = 0.7)\n",
    "plt.title('Allowed Runtime History')"
   ]
  },
  {
   "cell_type": "markdown",
   "metadata": {},
   "source": [
    "We can see that we skipp about a quarter of the songs that come on\n",
    "\n",
    "Let's engineer a column called 'Skip' where it counts the number of times that we have skipped a certain song\n",
    "\n",
    "We will also create a column called 'Play' where it counts the number of times we have let a song play\n",
    "\n",
    "Even though just having a skip columns would serve the same purpose, I would like both for visualization purposes\n",
    "\n",
    "---\n",
    "We will use 60 seconds as the cutoff points for play or skip"
   ]
  },
  {
   "cell_type": "code",
   "execution_count": 13,
   "metadata": {},
   "outputs": [],
   "source": [
    "hist['skip'] = np.where(hist['seconds']<60,1,0)\n",
    "hist['play'] = np.where(hist['seconds']>=60,1,0)"
   ]
  },
  {
   "cell_type": "code",
   "execution_count": 14,
   "metadata": {},
   "outputs": [
    {
     "data": {
      "text/html": [
       "<div>\n",
       "<style scoped>\n",
       "    .dataframe tbody tr th:only-of-type {\n",
       "        vertical-align: middle;\n",
       "    }\n",
       "\n",
       "    .dataframe tbody tr th {\n",
       "        vertical-align: top;\n",
       "    }\n",
       "\n",
       "    .dataframe thead th {\n",
       "        text-align: right;\n",
       "    }\n",
       "</style>\n",
       "<table border=\"1\" class=\"dataframe\">\n",
       "  <thead>\n",
       "    <tr style=\"text-align: right;\">\n",
       "      <th></th>\n",
       "      <th>Unnamed: 0</th>\n",
       "      <th>endTime</th>\n",
       "      <th>artistName</th>\n",
       "      <th>trackName</th>\n",
       "      <th>seconds</th>\n",
       "      <th>skip</th>\n",
       "      <th>play</th>\n",
       "    </tr>\n",
       "  </thead>\n",
       "  <tbody>\n",
       "    <tr>\n",
       "      <th>0</th>\n",
       "      <td>0</td>\n",
       "      <td>2019-09-20 18:05</td>\n",
       "      <td>Elvis Presley</td>\n",
       "      <td>From a Jack to a King</td>\n",
       "      <td>147.973</td>\n",
       "      <td>0</td>\n",
       "      <td>1</td>\n",
       "    </tr>\n",
       "    <tr>\n",
       "      <th>1</th>\n",
       "      <td>1</td>\n",
       "      <td>2019-09-20 18:08</td>\n",
       "      <td>Elvis Presley</td>\n",
       "      <td>From a Jack to a King</td>\n",
       "      <td>147.973</td>\n",
       "      <td>0</td>\n",
       "      <td>1</td>\n",
       "    </tr>\n",
       "    <tr>\n",
       "      <th>2</th>\n",
       "      <td>2</td>\n",
       "      <td>2019-09-20 18:26</td>\n",
       "      <td>Marty Robbins</td>\n",
       "      <td>Devil Woman</td>\n",
       "      <td>130.966</td>\n",
       "      <td>0</td>\n",
       "      <td>1</td>\n",
       "    </tr>\n",
       "    <tr>\n",
       "      <th>3</th>\n",
       "      <td>3</td>\n",
       "      <td>2019-09-21 17:49</td>\n",
       "      <td>Marty Robbins</td>\n",
       "      <td>Devil Woman</td>\n",
       "      <td>6.843</td>\n",
       "      <td>1</td>\n",
       "      <td>0</td>\n",
       "    </tr>\n",
       "    <tr>\n",
       "      <th>4</th>\n",
       "      <td>4</td>\n",
       "      <td>2019-09-21 17:49</td>\n",
       "      <td>Jimi Hendrix</td>\n",
       "      <td>May This Be Love</td>\n",
       "      <td>39.967</td>\n",
       "      <td>1</td>\n",
       "      <td>0</td>\n",
       "    </tr>\n",
       "  </tbody>\n",
       "</table>\n",
       "</div>"
      ],
      "text/plain": [
       "   Unnamed: 0           endTime     artistName              trackName  \\\n",
       "0           0  2019-09-20 18:05  Elvis Presley  From a Jack to a King   \n",
       "1           1  2019-09-20 18:08  Elvis Presley  From a Jack to a King   \n",
       "2           2  2019-09-20 18:26  Marty Robbins            Devil Woman   \n",
       "3           3  2019-09-21 17:49  Marty Robbins            Devil Woman   \n",
       "4           4  2019-09-21 17:49   Jimi Hendrix       May This Be Love   \n",
       "\n",
       "   seconds  skip  play  \n",
       "0  147.973     0     1  \n",
       "1  147.973     0     1  \n",
       "2  130.966     0     1  \n",
       "3    6.843     1     0  \n",
       "4   39.967     1     0  "
      ]
     },
     "execution_count": 14,
     "metadata": {},
     "output_type": "execute_result"
    }
   ],
   "source": [
    "hist.head()"
   ]
  },
  {
   "cell_type": "code",
   "execution_count": 15,
   "metadata": {},
   "outputs": [],
   "source": [
    "tracks = hist.groupby(['trackName','artistName']).agg({'skip':'sum', 'play': 'sum'}).reset_index()"
   ]
  },
  {
   "cell_type": "code",
   "execution_count": 16,
   "metadata": {},
   "outputs": [
    {
     "data": {
      "text/html": [
       "<div>\n",
       "<style scoped>\n",
       "    .dataframe tbody tr th:only-of-type {\n",
       "        vertical-align: middle;\n",
       "    }\n",
       "\n",
       "    .dataframe tbody tr th {\n",
       "        vertical-align: top;\n",
       "    }\n",
       "\n",
       "    .dataframe thead th {\n",
       "        text-align: right;\n",
       "    }\n",
       "</style>\n",
       "<table border=\"1\" class=\"dataframe\">\n",
       "  <thead>\n",
       "    <tr style=\"text-align: right;\">\n",
       "      <th></th>\n",
       "      <th>trackName</th>\n",
       "      <th>artistName</th>\n",
       "      <th>skip</th>\n",
       "      <th>play</th>\n",
       "    </tr>\n",
       "  </thead>\n",
       "  <tbody>\n",
       "    <tr>\n",
       "      <th>0</th>\n",
       "      <td>\"C\" is for Cookie</td>\n",
       "      <td>Cookie Monster</td>\n",
       "      <td>1</td>\n",
       "      <td>0</td>\n",
       "    </tr>\n",
       "    <tr>\n",
       "      <th>1</th>\n",
       "      <td>$ave Dat Money (feat. Fetty Wap &amp; Rich Homie Q...</td>\n",
       "      <td>Lil Dicky</td>\n",
       "      <td>1</td>\n",
       "      <td>1</td>\n",
       "    </tr>\n",
       "    <tr>\n",
       "      <th>2</th>\n",
       "      <td>'Round Here</td>\n",
       "      <td>IODONTPLAY</td>\n",
       "      <td>0</td>\n",
       "      <td>2</td>\n",
       "    </tr>\n",
       "    <tr>\n",
       "      <th>3</th>\n",
       "      <td>'Till I Collapse</td>\n",
       "      <td>Eminem</td>\n",
       "      <td>1</td>\n",
       "      <td>1</td>\n",
       "    </tr>\n",
       "    <tr>\n",
       "      <th>4</th>\n",
       "      <td>(Bonus) Air Canada</td>\n",
       "      <td>RiFF Raff &amp; DOLLABiLLGATES</td>\n",
       "      <td>0</td>\n",
       "      <td>2</td>\n",
       "    </tr>\n",
       "  </tbody>\n",
       "</table>\n",
       "</div>"
      ],
      "text/plain": [
       "                                           trackName  \\\n",
       "0                                  \"C\" is for Cookie   \n",
       "1  $ave Dat Money (feat. Fetty Wap & Rich Homie Q...   \n",
       "2                                        'Round Here   \n",
       "3                                   'Till I Collapse   \n",
       "4                                 (Bonus) Air Canada   \n",
       "\n",
       "                   artistName  skip  play  \n",
       "0              Cookie Monster     1     0  \n",
       "1                   Lil Dicky     1     1  \n",
       "2                  IODONTPLAY     0     2  \n",
       "3                      Eminem     1     1  \n",
       "4  RiFF Raff & DOLLABiLLGATES     0     2  "
      ]
     },
     "execution_count": 16,
     "metadata": {},
     "output_type": "execute_result"
    }
   ],
   "source": [
    "tracks.head()"
   ]
  },
  {
   "cell_type": "code",
   "execution_count": 17,
   "metadata": {},
   "outputs": [
    {
     "data": {
      "text/plain": [
       "<matplotlib.legend.Legend at 0x2100cc491c8>"
      ]
     },
     "execution_count": 17,
     "metadata": {},
     "output_type": "execute_result"
    },
    {
     "data": {
      "image/png": "[encoded data removed]",
      "text/plain": [
       "<Figure size 360x360 with 1 Axes>"
      ]
     },
     "metadata": {},
     "output_type": "display_data"
    }
   ],
   "source": [
    "fig, ax = plt.subplots(figsize = (5,5))\n",
    "\n",
    "\n",
    "play = tracks['play']\n",
    "skip = tracks['skip']\n",
    "plt.hist([play,skip], bins  = 10, range = (0,10),alpha = 0.7, label = ['Play','Skip'])\n",
    "plt.legend(loc='upper right')"
   ]
  },
  {
   "cell_type": "markdown",
   "metadata": {},
   "source": [
    "We can see that there are a lot more skips with a low total playcount... this could be due to spotify not offering us songs after we skip them once\n",
    "\n",
    "We also see there aren't any songs that are skipped more than 5 times... Spotify seems to stop giving us songs after we skip them a few times"
   ]
  },
  {
   "cell_type": "markdown",
   "metadata": {},
   "source": [
    "### Now let's define what songs we enjoy\n",
    "Any song that has a 75% ratio of plays/skips can be considered enjoyable"
   ]
  },
  {
   "cell_type": "code",
   "execution_count": 18,
   "metadata": {},
   "outputs": [],
   "source": [
    "tracks['like'] = np.where(tracks['play']/(tracks['skip']+tracks['play'])>=0.75,1,0)"
   ]
  },
  {
   "cell_type": "code",
   "execution_count": 19,
   "metadata": {},
   "outputs": [
    {
     "data": {
      "text/html": [
       "<div>\n",
       "<style scoped>\n",
       "    .dataframe tbody tr th:only-of-type {\n",
       "        vertical-align: middle;\n",
       "    }\n",
       "\n",
       "    .dataframe tbody tr th {\n",
       "        vertical-align: top;\n",
       "    }\n",
       "\n",
       "    .dataframe thead th {\n",
       "        text-align: right;\n",
       "    }\n",
       "</style>\n",
       "<table border=\"1\" class=\"dataframe\">\n",
       "  <thead>\n",
       "    <tr style=\"text-align: right;\">\n",
       "      <th></th>\n",
       "      <th>trackName</th>\n",
       "      <th>artistName</th>\n",
       "      <th>skip</th>\n",
       "      <th>play</th>\n",
       "      <th>like</th>\n",
       "    </tr>\n",
       "  </thead>\n",
       "  <tbody>\n",
       "    <tr>\n",
       "      <th>0</th>\n",
       "      <td>\"C\" is for Cookie</td>\n",
       "      <td>Cookie Monster</td>\n",
       "      <td>1</td>\n",
       "      <td>0</td>\n",
       "      <td>0</td>\n",
       "    </tr>\n",
       "    <tr>\n",
       "      <th>1</th>\n",
       "      <td>$ave Dat Money (feat. Fetty Wap &amp; Rich Homie Q...</td>\n",
       "      <td>Lil Dicky</td>\n",
       "      <td>1</td>\n",
       "      <td>1</td>\n",
       "      <td>0</td>\n",
       "    </tr>\n",
       "    <tr>\n",
       "      <th>2</th>\n",
       "      <td>'Round Here</td>\n",
       "      <td>IODONTPLAY</td>\n",
       "      <td>0</td>\n",
       "      <td>2</td>\n",
       "      <td>1</td>\n",
       "    </tr>\n",
       "    <tr>\n",
       "      <th>3</th>\n",
       "      <td>'Till I Collapse</td>\n",
       "      <td>Eminem</td>\n",
       "      <td>1</td>\n",
       "      <td>1</td>\n",
       "      <td>0</td>\n",
       "    </tr>\n",
       "    <tr>\n",
       "      <th>4</th>\n",
       "      <td>(Bonus) Air Canada</td>\n",
       "      <td>RiFF Raff &amp; DOLLABiLLGATES</td>\n",
       "      <td>0</td>\n",
       "      <td>2</td>\n",
       "      <td>1</td>\n",
       "    </tr>\n",
       "  </tbody>\n",
       "</table>\n",
       "</div>"
      ],
      "text/plain": [
       "                                           trackName  \\\n",
       "0                                  \"C\" is for Cookie   \n",
       "1  $ave Dat Money (feat. Fetty Wap & Rich Homie Q...   \n",
       "2                                        'Round Here   \n",
       "3                                   'Till I Collapse   \n",
       "4                                 (Bonus) Air Canada   \n",
       "\n",
       "                   artistName  skip  play  like  \n",
       "0              Cookie Monster     1     0     0  \n",
       "1                   Lil Dicky     1     1     0  \n",
       "2                  IODONTPLAY     0     2     1  \n",
       "3                      Eminem     1     1     0  \n",
       "4  RiFF Raff & DOLLABiLLGATES     0     2     1  "
      ]
     },
     "execution_count": 19,
     "metadata": {},
     "output_type": "execute_result"
    }
   ],
   "source": [
    "tracks.head(5)"
   ]
  },
  {
   "cell_type": "code",
   "execution_count": 20,
   "metadata": {},
   "outputs": [
    {
     "data": {
      "text/plain": [
       "2584"
      ]
     },
     "execution_count": 20,
     "metadata": {},
     "output_type": "execute_result"
    }
   ],
   "source": [
    "tracks.trackName.nunique()"
   ]
  },
  {
   "cell_type": "code",
   "execution_count": 21,
   "metadata": {},
   "outputs": [
    {
     "data": {
      "text/plain": [
       "2630"
      ]
     },
     "execution_count": 21,
     "metadata": {},
     "output_type": "execute_result"
    }
   ],
   "source": [
    "len(tracks)"
   ]
  },
  {
   "cell_type": "code",
   "execution_count": 22,
   "metadata": {},
   "outputs": [
    {
     "data": {
      "text/html": [
       "<div>\n",
       "<style scoped>\n",
       "    .dataframe tbody tr th:only-of-type {\n",
       "        vertical-align: middle;\n",
       "    }\n",
       "\n",
       "    .dataframe tbody tr th {\n",
       "        vertical-align: top;\n",
       "    }\n",
       "\n",
       "    .dataframe thead th {\n",
       "        text-align: right;\n",
       "    }\n",
       "</style>\n",
       "<table border=\"1\" class=\"dataframe\">\n",
       "  <thead>\n",
       "    <tr style=\"text-align: right;\">\n",
       "      <th></th>\n",
       "      <th>trackName</th>\n",
       "      <th>artistName</th>\n",
       "    </tr>\n",
       "  </thead>\n",
       "  <tbody>\n",
       "    <tr>\n",
       "      <th>216</th>\n",
       "      <td>Believer</td>\n",
       "      <td>2</td>\n",
       "    </tr>\n",
       "    <tr>\n",
       "      <th>286</th>\n",
       "      <td>Bounce</td>\n",
       "      <td>2</td>\n",
       "    </tr>\n",
       "    <tr>\n",
       "      <th>375</th>\n",
       "      <td>Chant</td>\n",
       "      <td>2</td>\n",
       "    </tr>\n",
       "    <tr>\n",
       "      <th>503</th>\n",
       "      <td>Daybreak</td>\n",
       "      <td>2</td>\n",
       "    </tr>\n",
       "    <tr>\n",
       "      <th>504</th>\n",
       "      <td>Daydream</td>\n",
       "      <td>2</td>\n",
       "    </tr>\n",
       "  </tbody>\n",
       "</table>\n",
       "</div>"
      ],
      "text/plain": [
       "    trackName  artistName\n",
       "216  Believer           2\n",
       "286    Bounce           2\n",
       "375     Chant           2\n",
       "503  Daybreak           2\n",
       "504  Daydream           2"
      ]
     },
     "execution_count": 22,
     "metadata": {},
     "output_type": "execute_result"
    }
   ],
   "source": [
    "#Find if some songs have same name but different artist\n",
    "a = tracks.groupby('trackName').artistName.count().reset_index()\n",
    "a[a['artistName']>1].head()"
   ]
  },
  {
   "cell_type": "markdown",
   "metadata": {},
   "source": [
    "### Bring in Features for my song history\n",
    "\n",
    "In the Song Collection notebook, I have gotten all of the features for songs that I played in the past year as long as they had been played or skipped twice.\n",
    "\n",
    "I will now read that df into this notebook, so that I can merge it with the skip/play/like features above"
   ]
  },
  {
   "cell_type": "code",
   "execution_count": 23,
   "metadata": {},
   "outputs": [],
   "source": [
    "my_song_features = pd.read_csv(r'C:\\Users\\charl\\Python\\GitHub Projects\\Spotify_Project\\MyData\\songs_for_personal_analysis.csv')"
   ]
  },
  {
   "cell_type": "code",
   "execution_count": 24,
   "metadata": {},
   "outputs": [
    {
     "data": {
      "text/plain": [
       "1837"
      ]
     },
     "execution_count": 24,
     "metadata": {},
     "output_type": "execute_result"
    }
   ],
   "source": [
    "len(my_song_features)"
   ]
  },
  {
   "cell_type": "code",
   "execution_count": 25,
   "metadata": {},
   "outputs": [
    {
     "data": {
      "text/plain": [
       "1837"
      ]
     },
     "execution_count": 25,
     "metadata": {},
     "output_type": "execute_result"
    }
   ],
   "source": [
    "df = pd.merge(my_song_features, tracks,  how='left', on=['trackName','artistName'])\n",
    "len(df)"
   ]
  },
  {
   "cell_type": "code",
   "execution_count": 26,
   "metadata": {},
   "outputs": [],
   "source": [
    "df.drop(columns = 'Unnamed: 0',inplace= True)"
   ]
  },
  {
   "cell_type": "code",
   "execution_count": 27,
   "metadata": {},
   "outputs": [
    {
     "data": {
      "text/html": [
       "<div>\n",
       "<style scoped>\n",
       "    .dataframe tbody tr th:only-of-type {\n",
       "        vertical-align: middle;\n",
       "    }\n",
       "\n",
       "    .dataframe tbody tr th {\n",
       "        vertical-align: top;\n",
       "    }\n",
       "\n",
       "    .dataframe thead th {\n",
       "        text-align: right;\n",
       "    }\n",
       "</style>\n",
       "<table border=\"1\" class=\"dataframe\">\n",
       "  <thead>\n",
       "    <tr style=\"text-align: right;\">\n",
       "      <th></th>\n",
       "      <th>id</th>\n",
       "      <th>acousticness</th>\n",
       "      <th>danceability</th>\n",
       "      <th>duration_ms</th>\n",
       "      <th>energy</th>\n",
       "      <th>instrumentalness</th>\n",
       "      <th>key</th>\n",
       "      <th>liveness</th>\n",
       "      <th>loudness</th>\n",
       "      <th>mode</th>\n",
       "      <th>speechiness</th>\n",
       "      <th>tempo</th>\n",
       "      <th>time_signature</th>\n",
       "      <th>valence</th>\n",
       "      <th>trackName</th>\n",
       "      <th>artistName</th>\n",
       "      <th>skip</th>\n",
       "      <th>play</th>\n",
       "      <th>like</th>\n",
       "    </tr>\n",
       "  </thead>\n",
       "  <tbody>\n",
       "    <tr>\n",
       "      <th>0</th>\n",
       "      <td>5Le9sSLxWIaIEPPppZ9EuF</td>\n",
       "      <td>0.3300</td>\n",
       "      <td>0.673</td>\n",
       "      <td>254118.0</td>\n",
       "      <td>0.8000</td>\n",
       "      <td>0.0000</td>\n",
       "      <td>7.0</td>\n",
       "      <td>0.689</td>\n",
       "      <td>-6.253</td>\n",
       "      <td>1.0</td>\n",
       "      <td>0.2140</td>\n",
       "      <td>135.997</td>\n",
       "      <td>4.0</td>\n",
       "      <td>0.268</td>\n",
       "      <td>'Round Here</td>\n",
       "      <td>IODONTPLAY</td>\n",
       "      <td>0</td>\n",
       "      <td>2</td>\n",
       "      <td>1</td>\n",
       "    </tr>\n",
       "    <tr>\n",
       "      <th>1</th>\n",
       "      <td>5F7bIFd3xWuoXmvXFqFl5M</td>\n",
       "      <td>0.0825</td>\n",
       "      <td>0.744</td>\n",
       "      <td>365950.0</td>\n",
       "      <td>0.5700</td>\n",
       "      <td>0.0000</td>\n",
       "      <td>3.0</td>\n",
       "      <td>0.121</td>\n",
       "      <td>-4.359</td>\n",
       "      <td>0.0</td>\n",
       "      <td>0.0357</td>\n",
       "      <td>75.019</td>\n",
       "      <td>4.0</td>\n",
       "      <td>0.600</td>\n",
       "      <td>(Bonus) Air Canada</td>\n",
       "      <td>RiFF Raff &amp; DOLLABiLLGATES</td>\n",
       "      <td>0</td>\n",
       "      <td>2</td>\n",
       "      <td>1</td>\n",
       "    </tr>\n",
       "    <tr>\n",
       "      <th>2</th>\n",
       "      <td>2PzU4IB8Dr6mxV3lHuaG34</td>\n",
       "      <td>0.0383</td>\n",
       "      <td>0.723</td>\n",
       "      <td>222813.0</td>\n",
       "      <td>0.8630</td>\n",
       "      <td>0.0317</td>\n",
       "      <td>2.0</td>\n",
       "      <td>0.128</td>\n",
       "      <td>-7.890</td>\n",
       "      <td>1.0</td>\n",
       "      <td>0.0338</td>\n",
       "      <td>136.302</td>\n",
       "      <td>4.0</td>\n",
       "      <td>0.931</td>\n",
       "      <td>(I Can't Get No) Satisfaction - Mono Version</td>\n",
       "      <td>The Rolling Stones</td>\n",
       "      <td>2</td>\n",
       "      <td>9</td>\n",
       "      <td>1</td>\n",
       "    </tr>\n",
       "    <tr>\n",
       "      <th>3</th>\n",
       "      <td>3qLfQNPEE27KI3Hgd9Om8A</td>\n",
       "      <td>0.9910</td>\n",
       "      <td>0.295</td>\n",
       "      <td>135653.0</td>\n",
       "      <td>0.0706</td>\n",
       "      <td>0.9200</td>\n",
       "      <td>9.0</td>\n",
       "      <td>0.101</td>\n",
       "      <td>-20.157</td>\n",
       "      <td>0.0</td>\n",
       "      <td>0.0439</td>\n",
       "      <td>76.425</td>\n",
       "      <td>1.0</td>\n",
       "      <td>0.139</td>\n",
       "      <td>(prelude)</td>\n",
       "      <td>Zachary Bruno</td>\n",
       "      <td>0</td>\n",
       "      <td>2</td>\n",
       "      <td>1</td>\n",
       "    </tr>\n",
       "    <tr>\n",
       "      <th>4</th>\n",
       "      <td>4txn9qnwK3ILQqv5oq2mO3</td>\n",
       "      <td>0.3880</td>\n",
       "      <td>0.519</td>\n",
       "      <td>264213.0</td>\n",
       "      <td>0.8090</td>\n",
       "      <td>0.0000</td>\n",
       "      <td>1.0</td>\n",
       "      <td>0.275</td>\n",
       "      <td>-6.362</td>\n",
       "      <td>1.0</td>\n",
       "      <td>0.5560</td>\n",
       "      <td>146.020</td>\n",
       "      <td>4.0</td>\n",
       "      <td>0.262</td>\n",
       "      <td>03' Adolescence</td>\n",
       "      <td>J. Cole</td>\n",
       "      <td>1</td>\n",
       "      <td>4</td>\n",
       "      <td>1</td>\n",
       "    </tr>\n",
       "  </tbody>\n",
       "</table>\n",
       "</div>"
      ],
      "text/plain": [
       "                       id  acousticness  danceability  duration_ms  energy  \\\n",
       "0  5Le9sSLxWIaIEPPppZ9EuF        0.3300         0.673     254118.0  0.8000   \n",
       "1  5F7bIFd3xWuoXmvXFqFl5M        0.0825         0.744     365950.0  0.5700   \n",
       "2  2PzU4IB8Dr6mxV3lHuaG34        0.0383         0.723     222813.0  0.8630   \n",
       "3  3qLfQNPEE27KI3Hgd9Om8A        0.9910         0.295     135653.0  0.0706   \n",
       "4  4txn9qnwK3ILQqv5oq2mO3        0.3880         0.519     264213.0  0.8090   \n",
       "\n",
       "   instrumentalness  key  liveness  loudness  mode  speechiness    tempo  \\\n",
       "0            0.0000  7.0     0.689    -6.253   1.0       0.2140  135.997   \n",
       "1            0.0000  3.0     0.121    -4.359   0.0       0.0357   75.019   \n",
       "2            0.0317  2.0     0.128    -7.890   1.0       0.0338  136.302   \n",
       "3            0.9200  9.0     0.101   -20.157   0.0       0.0439   76.425   \n",
       "4            0.0000  1.0     0.275    -6.362   1.0       0.5560  146.020   \n",
       "\n",
       "   time_signature  valence                                     trackName  \\\n",
       "0             4.0    0.268                                   'Round Here   \n",
       "1             4.0    0.600                            (Bonus) Air Canada   \n",
       "2             4.0    0.931  (I Can't Get No) Satisfaction - Mono Version   \n",
       "3             1.0    0.139                                     (prelude)   \n",
       "4             4.0    0.262                               03' Adolescence   \n",
       "\n",
       "                   artistName  skip  play  like  \n",
       "0                  IODONTPLAY     0     2     1  \n",
       "1  RiFF Raff & DOLLABiLLGATES     0     2     1  \n",
       "2          The Rolling Stones     2     9     1  \n",
       "3               Zachary Bruno     0     2     1  \n",
       "4                     J. Cole     1     4     1  "
      ]
     },
     "execution_count": 27,
     "metadata": {},
     "output_type": "execute_result"
    }
   ],
   "source": [
    "df.head()"
   ]
  },
  {
   "cell_type": "markdown",
   "metadata": {},
   "source": [
    "## Finally, we have our dataframe of songs I have listened to in the past year that include their features and if I enjoy them"
   ]
  },
  {
   "cell_type": "code",
   "execution_count": 32,
   "metadata": {},
   "outputs": [
    {
     "data": {
      "text/plain": [
       "Text(0.5, 1, 'Song Feature Correlations')"
      ]
     },
     "execution_count": 32,
     "metadata": {},
     "output_type": "execute_result"
    },
    {
     "data": {
      "image/png": "[encoded data removed]",
      "text/plain": [
       "<Figure size 720x720 with 2 Axes>"
      ]
     },
     "metadata": {},
     "output_type": "display_data"
    }
   ],
   "source": [
    "fig, ax = plt.subplots(figsize = (10,10))\n",
    "\n",
    "sns.heatmap(df.corr(),cmap = 'PiYG', center = 0)\n",
    "plt.title('Song Feature Correlations')"
   ]
  },
  {
   "cell_type": "markdown",
   "metadata": {},
   "source": [
    "Accousticness and instrumentalness have a positive relationship with me liking a song\n",
    "\n",
    "I don't seem to like dancy, energetic, or loud music"
   ]
  },
  {
   "cell_type": "code",
   "execution_count": null,
   "metadata": {},
   "outputs": [],
   "source": []
  }
 ],
 "metadata": {
  "kernelspec": {
   "display_name": "Python 3",
   "language": "python",
   "name": "python3"
  },
  "language_info": {
   "codemirror_mode": {
    "name": "ipython",
    "version": 3
   },
   "file_extension": ".py",
   "mimetype": "text/x-python",
   "name": "python",
   "nbconvert_exporter": "python",
   "pygments_lexer": "ipython3",
   "version": "3.7.6"
  }
 },
 "nbformat": 4,
 "nbformat_minor": 4
}
