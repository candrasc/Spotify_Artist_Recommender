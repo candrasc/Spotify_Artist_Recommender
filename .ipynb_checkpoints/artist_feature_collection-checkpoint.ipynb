{
 "cells": [
  {
   "cell_type": "markdown",
   "metadata": {},
   "source": [
    "### Here we will retrieve songs for each artist in our giant playlist of songs as well as in my personal library\n",
    "\n",
    "#### These artists will be the artists we are able to recommend for our artist recommender as we will have all of their features stored"
   ]
  },
  {
   "cell_type": "code",
   "execution_count": 1,
   "metadata": {},
   "outputs": [],
   "source": [
    "import pandas as pd\n",
    "import numpy as np\n",
    "import spotipy\n",
    "import spotipy.util as util\n",
    "from spotipy.oauth2 import SpotifyClientCredentials\n",
    "import os, json"
   ]
  },
  {
   "cell_type": "code",
   "execution_count": 2,
   "metadata": {},
   "outputs": [],
   "source": [
    "cur_dir = os.getcwd()"
   ]
  },
  {
   "cell_type": "code",
   "execution_count": 3,
   "metadata": {},
   "outputs": [],
   "source": [
    "df_full = pd.read_csv('MyData/biggest_playlist_ever.csv')\n",
    "df_pers = pd.read_csv('MyData/songs_for_personal_analysis.csv')"
   ]
  },
  {
   "cell_type": "code",
   "execution_count": 4,
   "metadata": {},
   "outputs": [
    {
     "data": {
      "text/html": [
       "<div>\n",
       "<style scoped>\n",
       "    .dataframe tbody tr th:only-of-type {\n",
       "        vertical-align: middle;\n",
       "    }\n",
       "\n",
       "    .dataframe tbody tr th {\n",
       "        vertical-align: top;\n",
       "    }\n",
       "\n",
       "    .dataframe thead th {\n",
       "        text-align: right;\n",
       "    }\n",
       "</style>\n",
       "<table border=\"1\" class=\"dataframe\">\n",
       "  <thead>\n",
       "    <tr style=\"text-align: right;\">\n",
       "      <th></th>\n",
       "      <th>Unnamed: 0</th>\n",
       "      <th>id</th>\n",
       "      <th>acousticness</th>\n",
       "      <th>danceability</th>\n",
       "      <th>duration_ms</th>\n",
       "      <th>energy</th>\n",
       "      <th>instrumentalness</th>\n",
       "      <th>key</th>\n",
       "      <th>liveness</th>\n",
       "      <th>loudness</th>\n",
       "      <th>mode</th>\n",
       "      <th>speechiness</th>\n",
       "      <th>tempo</th>\n",
       "      <th>time_signature</th>\n",
       "      <th>valence</th>\n",
       "      <th>trackName</th>\n",
       "      <th>artistName</th>\n",
       "    </tr>\n",
       "  </thead>\n",
       "  <tbody>\n",
       "    <tr>\n",
       "      <th>0</th>\n",
       "      <td>0</td>\n",
       "      <td>5Le9sSLxWIaIEPPppZ9EuF</td>\n",
       "      <td>0.3300</td>\n",
       "      <td>0.673</td>\n",
       "      <td>254118.0</td>\n",
       "      <td>0.8000</td>\n",
       "      <td>0.0000</td>\n",
       "      <td>7.0</td>\n",
       "      <td>0.689</td>\n",
       "      <td>-6.253</td>\n",
       "      <td>1.0</td>\n",
       "      <td>0.2140</td>\n",
       "      <td>135.997</td>\n",
       "      <td>4.0</td>\n",
       "      <td>0.268</td>\n",
       "      <td>'Round Here</td>\n",
       "      <td>IODONTPLAY</td>\n",
       "    </tr>\n",
       "    <tr>\n",
       "      <th>1</th>\n",
       "      <td>1</td>\n",
       "      <td>5F7bIFd3xWuoXmvXFqFl5M</td>\n",
       "      <td>0.0825</td>\n",
       "      <td>0.744</td>\n",
       "      <td>365950.0</td>\n",
       "      <td>0.5700</td>\n",
       "      <td>0.0000</td>\n",
       "      <td>3.0</td>\n",
       "      <td>0.121</td>\n",
       "      <td>-4.359</td>\n",
       "      <td>0.0</td>\n",
       "      <td>0.0357</td>\n",
       "      <td>75.019</td>\n",
       "      <td>4.0</td>\n",
       "      <td>0.600</td>\n",
       "      <td>(Bonus) Air Canada</td>\n",
       "      <td>RiFF Raff &amp; DOLLABiLLGATES</td>\n",
       "    </tr>\n",
       "    <tr>\n",
       "      <th>2</th>\n",
       "      <td>2</td>\n",
       "      <td>2PzU4IB8Dr6mxV3lHuaG34</td>\n",
       "      <td>0.0383</td>\n",
       "      <td>0.723</td>\n",
       "      <td>222813.0</td>\n",
       "      <td>0.8630</td>\n",
       "      <td>0.0317</td>\n",
       "      <td>2.0</td>\n",
       "      <td>0.128</td>\n",
       "      <td>-7.890</td>\n",
       "      <td>1.0</td>\n",
       "      <td>0.0338</td>\n",
       "      <td>136.302</td>\n",
       "      <td>4.0</td>\n",
       "      <td>0.931</td>\n",
       "      <td>(I Can't Get No) Satisfaction - Mono Version</td>\n",
       "      <td>The Rolling Stones</td>\n",
       "    </tr>\n",
       "    <tr>\n",
       "      <th>3</th>\n",
       "      <td>3</td>\n",
       "      <td>3qLfQNPEE27KI3Hgd9Om8A</td>\n",
       "      <td>0.9910</td>\n",
       "      <td>0.295</td>\n",
       "      <td>135653.0</td>\n",
       "      <td>0.0706</td>\n",
       "      <td>0.9200</td>\n",
       "      <td>9.0</td>\n",
       "      <td>0.101</td>\n",
       "      <td>-20.157</td>\n",
       "      <td>0.0</td>\n",
       "      <td>0.0439</td>\n",
       "      <td>76.425</td>\n",
       "      <td>1.0</td>\n",
       "      <td>0.139</td>\n",
       "      <td>(prelude)</td>\n",
       "      <td>Zachary Bruno</td>\n",
       "    </tr>\n",
       "    <tr>\n",
       "      <th>4</th>\n",
       "      <td>4</td>\n",
       "      <td>4txn9qnwK3ILQqv5oq2mO3</td>\n",
       "      <td>0.3880</td>\n",
       "      <td>0.519</td>\n",
       "      <td>264213.0</td>\n",
       "      <td>0.8090</td>\n",
       "      <td>0.0000</td>\n",
       "      <td>1.0</td>\n",
       "      <td>0.275</td>\n",
       "      <td>-6.362</td>\n",
       "      <td>1.0</td>\n",
       "      <td>0.5560</td>\n",
       "      <td>146.020</td>\n",
       "      <td>4.0</td>\n",
       "      <td>0.262</td>\n",
       "      <td>03' Adolescence</td>\n",
       "      <td>J. Cole</td>\n",
       "    </tr>\n",
       "  </tbody>\n",
       "</table>\n",
       "</div>"
      ],
      "text/plain": [
       "   Unnamed: 0                      id  acousticness  danceability  \\\n",
       "0           0  5Le9sSLxWIaIEPPppZ9EuF        0.3300         0.673   \n",
       "1           1  5F7bIFd3xWuoXmvXFqFl5M        0.0825         0.744   \n",
       "2           2  2PzU4IB8Dr6mxV3lHuaG34        0.0383         0.723   \n",
       "3           3  3qLfQNPEE27KI3Hgd9Om8A        0.9910         0.295   \n",
       "4           4  4txn9qnwK3ILQqv5oq2mO3        0.3880         0.519   \n",
       "\n",
       "   duration_ms  energy  instrumentalness  key  liveness  loudness  mode  \\\n",
       "0     254118.0  0.8000            0.0000  7.0     0.689    -6.253   1.0   \n",
       "1     365950.0  0.5700            0.0000  3.0     0.121    -4.359   0.0   \n",
       "2     222813.0  0.8630            0.0317  2.0     0.128    -7.890   1.0   \n",
       "3     135653.0  0.0706            0.9200  9.0     0.101   -20.157   0.0   \n",
       "4     264213.0  0.8090            0.0000  1.0     0.275    -6.362   1.0   \n",
       "\n",
       "   speechiness    tempo  time_signature  valence  \\\n",
       "0       0.2140  135.997             4.0    0.268   \n",
       "1       0.0357   75.019             4.0    0.600   \n",
       "2       0.0338  136.302             4.0    0.931   \n",
       "3       0.0439   76.425             1.0    0.139   \n",
       "4       0.5560  146.020             4.0    0.262   \n",
       "\n",
       "                                      trackName                  artistName  \n",
       "0                                   'Round Here                  IODONTPLAY  \n",
       "1                            (Bonus) Air Canada  RiFF Raff & DOLLABiLLGATES  \n",
       "2  (I Can't Get No) Satisfaction - Mono Version          The Rolling Stones  \n",
       "3                                     (prelude)               Zachary Bruno  \n",
       "4                               03' Adolescence                     J. Cole  "
      ]
     },
     "execution_count": 4,
     "metadata": {},
     "output_type": "execute_result"
    }
   ],
   "source": [
    "df_pers.head()"
   ]
  },
  {
   "cell_type": "code",
   "execution_count": 5,
   "metadata": {},
   "outputs": [],
   "source": [
    "artists1 = df_full.artist.unique()\n",
    "artists2 = df_pers.artistName.unique()"
   ]
  },
  {
   "cell_type": "code",
   "execution_count": 6,
   "metadata": {},
   "outputs": [],
   "source": [
    "artists = np.append(artists1,artists2)"
   ]
  },
  {
   "cell_type": "code",
   "execution_count": 7,
   "metadata": {},
   "outputs": [],
   "source": [
    "artists = artists.astype('str')"
   ]
  },
  {
   "cell_type": "code",
   "execution_count": 58,
   "metadata": {},
   "outputs": [],
   "source": [
    "artists = np.unique(artists)"
   ]
  },
  {
   "cell_type": "markdown",
   "metadata": {},
   "source": [
    "#### Retrieve 50 songs for each artist"
   ]
  },
  {
   "cell_type": "code",
   "execution_count": 17,
   "metadata": {},
   "outputs": [],
   "source": [
    "CLIENT_ID = os.environ.get('SPOTIFY_CLIENT_ID')\n",
    "CLIENT_SECRET = os.environ.get('SPOTIFY_SECRET_ID')"
   ]
  },
  {
   "cell_type": "code",
   "execution_count": 18,
   "metadata": {},
   "outputs": [],
   "source": [
    "client_credentials_manager = SpotifyClientCredentials(CLIENT_ID, CLIENT_SECRET)\n",
    "sp = spotipy.Spotify(client_credentials_manager=client_credentials_manager)"
   ]
  },
  {
   "cell_type": "code",
   "execution_count": 25,
   "metadata": {},
   "outputs": [],
   "source": [
    "name = 'Radiohead'\n",
    "\n",
    "results = sp.search(q='artist:' + name, type='artist')\n",
    "items = results['artists']['items']"
   ]
  },
  {
   "cell_type": "code",
   "execution_count": 26,
   "metadata": {},
   "outputs": [
    {
     "data": {
      "text/plain": [
       "[{'external_urls': {'spotify': 'https://open.spotify.com/artist/4Z8W4fKeB5YxbusRsdQVPb'},\n",
       "  'followers': {'href': None, 'total': 5650121},\n",
       "  'genres': ['alternative rock',\n",
       "   'art rock',\n",
       "   'melancholia',\n",
       "   'oxford indie',\n",
       "   'permanent wave',\n",
       "   'rock'],\n",
       "  'href': 'https://api.spotify.com/v1/artists/4Z8W4fKeB5YxbusRsdQVPb',\n",
       "  'id': '4Z8W4fKeB5YxbusRsdQVPb',\n",
       "  'images': [{'height': 640,\n",
       "    'url': 'https://i.scdn.co/image/afcd616e1ef2d2786f47b3b4a8a6aeea24a72adc',\n",
       "    'width': 640},\n",
       "   {'height': 320,\n",
       "    'url': 'https://i.scdn.co/image/563754af10b3d9f9f62a3458e699f58c4a02870f',\n",
       "    'width': 320},\n",
       "   {'height': 160,\n",
       "    'url': 'https://i.scdn.co/image/4067ea225d8b42fa6951857d3af27dd07d60f3c6',\n",
       "    'width': 160}],\n",
       "  'name': 'Radiohead',\n",
       "  'popularity': 80,\n",
       "  'type': 'artist',\n",
       "  'uri': 'spotify:artist:4Z8W4fKeB5YxbusRsdQVPb'},\n",
       " {'external_urls': {'spotify': 'https://open.spotify.com/artist/17mBFWKyCyp506a3n6XUWA'},\n",
       "  'followers': {'href': None, 'total': 1},\n",
       "  'genres': [],\n",
       "  'href': 'https://api.spotify.com/v1/artists/17mBFWKyCyp506a3n6XUWA',\n",
       "  'id': '17mBFWKyCyp506a3n6XUWA',\n",
       "  'images': [],\n",
       "  'name': 'DJ Radiohead',\n",
       "  'popularity': 0,\n",
       "  'type': 'artist',\n",
       "  'uri': 'spotify:artist:17mBFWKyCyp506a3n6XUWA'},\n",
       " {'external_urls': {'spotify': 'https://open.spotify.com/artist/54FnvKUQFU2KpNJlZi25G0'},\n",
       "  'followers': {'href': None, 'total': 5},\n",
       "  'genres': [],\n",
       "  'href': 'https://api.spotify.com/v1/artists/54FnvKUQFU2KpNJlZi25G0',\n",
       "  'id': '54FnvKUQFU2KpNJlZi25G0',\n",
       "  'images': [],\n",
       "  'name': 'Dj Radiohead',\n",
       "  'popularity': 0,\n",
       "  'type': 'artist',\n",
       "  'uri': 'spotify:artist:54FnvKUQFU2KpNJlZi25G0'},\n",
       " {'external_urls': {'spotify': 'https://open.spotify.com/artist/0ADkBHZhR2cVfANgK5gHQO'},\n",
       "  'followers': {'href': None, 'total': 455},\n",
       "  'genres': [],\n",
       "  'href': 'https://api.spotify.com/v1/artists/0ADkBHZhR2cVfANgK5gHQO',\n",
       "  'id': '0ADkBHZhR2cVfANgK5gHQO',\n",
       "  'images': [{'height': 640,\n",
       "    'url': 'https://i.scdn.co/image/ab67616d0000b273c8e9b66dea4469de0820ca38',\n",
       "    'width': 640},\n",
       "   {'height': 300,\n",
       "    'url': 'https://i.scdn.co/image/ab67616d00001e02c8e9b66dea4469de0820ca38',\n",
       "    'width': 300},\n",
       "   {'height': 64,\n",
       "    'url': 'https://i.scdn.co/image/ab67616d00004851c8e9b66dea4469de0820ca38',\n",
       "    'width': 64}],\n",
       "  'name': 'Radiohead Tribute Band',\n",
       "  'popularity': 5,\n",
       "  'type': 'artist',\n",
       "  'uri': 'spotify:artist:0ADkBHZhR2cVfANgK5gHQO'}]"
      ]
     },
     "execution_count": 26,
     "metadata": {},
     "output_type": "execute_result"
    }
   ],
   "source": [
    "items"
   ]
  },
  {
   "cell_type": "code",
   "execution_count": 27,
   "metadata": {},
   "outputs": [
    {
     "data": {
      "text/plain": [
       "'4Z8W4fKeB5YxbusRsdQVPb'"
      ]
     },
     "execution_count": 27,
     "metadata": {},
     "output_type": "execute_result"
    }
   ],
   "source": [
    "items[0]['id']"
   ]
  },
  {
   "cell_type": "code",
   "execution_count": 30,
   "metadata": {},
   "outputs": [],
   "source": [
    "def get_artist_ids(artist_names):\n",
    "    ids = []\n",
    "    for name in artist_names:\n",
    "        try:\n",
    "            results = sp.search(q='artist:' + name, type='artist')\n",
    "            items = results['artists']['items']\n",
    "            artist_id = items[0]['id']\n",
    "            ids.append(artist_id)\n",
    "        except:\n",
    "            print(name)\n",
    "    \n",
    "    return ids\n",
    "        "
   ]
  },
  {
   "cell_type": "code",
   "execution_count": 31,
   "metadata": {},
   "outputs": [
    {
     "name": "stdout",
     "output_type": "stream",
     "text": [
      "Aamupojat\n",
      "Ella Lymi\n",
      "Eternal Flames\n",
      "Groove Sisters Media\n",
      "Hotelli Vantaa\n",
      "IDOLS 2007\n",
      "Ipanapa\n",
      "Kauniit & Uhkarohkeat\n",
      "Linda Vink\n",
      "Munamies\n",
      "Profeetat\n",
      "Puhuva Kone\n",
      "Pää-äijät\n",
      "Sueco the Child\n",
      "Suurlähettiläät\n",
      "Valvomo\n",
      "Yung Anime\n"
     ]
    }
   ],
   "source": [
    "artist_ids = get_artist_ids(artists)"
   ]
  },
  {
   "cell_type": "code",
   "execution_count": 60,
   "metadata": {},
   "outputs": [
    {
     "data": {
      "text/plain": [
       "1945"
      ]
     },
     "execution_count": 60,
     "metadata": {},
     "output_type": "execute_result"
    }
   ],
   "source": [
    "len(artist_ids)"
   ]
  },
  {
   "cell_type": "code",
   "execution_count": 35,
   "metadata": {},
   "outputs": [],
   "source": [
    "def get_top_tracks(artist_ids):\n",
    "    \"\"\"\n",
    "    Retrieve features for each artists top 10 tracks\n",
    "    \n",
    "    \"\"\"\n",
    "    top_10s = {}\n",
    "    \n",
    "    for artist in artist_ids:\n",
    "        top = sp.artist_top_tracks(artist, country='US')['tracks']\n",
    "        top_tracks = []\n",
    "        for track in top:\n",
    "            top_tracks.append(track['id'])\n",
    "        \n",
    "        top_10s[artist] = top_tracks\n",
    "        \n",
    "\n",
    "    return top_10s"
   ]
  },
  {
   "cell_type": "code",
   "execution_count": 36,
   "metadata": {},
   "outputs": [],
   "source": [
    "top_10s = get_top_tracks(artist_ids)"
   ]
  },
  {
   "cell_type": "code",
   "execution_count": 70,
   "metadata": {},
   "outputs": [
    {
     "data": {
      "text/plain": [
       "1760"
      ]
     },
     "execution_count": 70,
     "metadata": {},
     "output_type": "execute_result"
    }
   ],
   "source": [
    "len(top_10s.keys())"
   ]
  },
  {
   "cell_type": "code",
   "execution_count": 67,
   "metadata": {},
   "outputs": [],
   "source": [
    "to_delete = []\n",
    "for key, value in top_10s.items():\n",
    "    if len(value)!=10:\n",
    "        to_delete.append(key)\n",
    "        \n",
    "for key in to_delete:\n",
    "    del top_10s[key]"
   ]
  },
  {
   "cell_type": "code",
   "execution_count": 68,
   "metadata": {},
   "outputs": [],
   "source": [
    "artist_dic = dict(zip(artist_ids, artists))"
   ]
  },
  {
   "cell_type": "markdown",
   "metadata": {},
   "source": [
    "#### What we have for our 500+ artists at this point:\n",
    "- A dictionary of artist IDs and their top 10 track IDs\n",
    "- A dictionary of artist names and their corresponding IDs\n",
    "\n",
    "#### What's next\n",
    "- Get song features for each artists top tracks\n",
    "- Create a dataframe with columns: artist_id, artist_name, song_id, and all song features\n",
    "- Aggregate the data frame by artist id to get a mean of song features."
   ]
  },
  {
   "cell_type": "code",
   "execution_count": 51,
   "metadata": {},
   "outputs": [],
   "source": [
    "df = pd.DataFrame.from_dict(top_10s, orient='index')"
   ]
  },
  {
   "cell_type": "code",
   "execution_count": 52,
   "metadata": {},
   "outputs": [
    {
     "data": {
      "text/html": [
       "<div>\n",
       "<style scoped>\n",
       "    .dataframe tbody tr th:only-of-type {\n",
       "        vertical-align: middle;\n",
       "    }\n",
       "\n",
       "    .dataframe tbody tr th {\n",
       "        vertical-align: top;\n",
       "    }\n",
       "\n",
       "    .dataframe thead th {\n",
       "        text-align: right;\n",
       "    }\n",
       "</style>\n",
       "<table border=\"1\" class=\"dataframe\">\n",
       "  <thead>\n",
       "    <tr style=\"text-align: right;\">\n",
       "      <th></th>\n",
       "      <th>level_0</th>\n",
       "      <th>level_1</th>\n",
       "      <th>0</th>\n",
       "    </tr>\n",
       "  </thead>\n",
       "  <tbody>\n",
       "    <tr>\n",
       "      <th>0</th>\n",
       "      <td>5IbEL2xjRtKsunfmsahLuO</td>\n",
       "      <td>0</td>\n",
       "      <td>0j8ppsOOawdPCJnSTcXgOy</td>\n",
       "    </tr>\n",
       "    <tr>\n",
       "      <th>1</th>\n",
       "      <td>5IbEL2xjRtKsunfmsahLuO</td>\n",
       "      <td>1</td>\n",
       "      <td>3oGbHF3Kdwf3AsRCbBjUxu</td>\n",
       "    </tr>\n",
       "    <tr>\n",
       "      <th>2</th>\n",
       "      <td>5IbEL2xjRtKsunfmsahLuO</td>\n",
       "      <td>2</td>\n",
       "      <td>706ZrLifsm0nwlucKr4kQg</td>\n",
       "    </tr>\n",
       "    <tr>\n",
       "      <th>3</th>\n",
       "      <td>5IbEL2xjRtKsunfmsahLuO</td>\n",
       "      <td>3</td>\n",
       "      <td>3PXi72ZtSqx1PZc40KS0Qj</td>\n",
       "    </tr>\n",
       "    <tr>\n",
       "      <th>4</th>\n",
       "      <td>5IbEL2xjRtKsunfmsahLuO</td>\n",
       "      <td>4</td>\n",
       "      <td>4aTyb0MBTzJXE75aHxeGW5</td>\n",
       "    </tr>\n",
       "    <tr>\n",
       "      <th>...</th>\n",
       "      <td>...</td>\n",
       "      <td>...</td>\n",
       "      <td>...</td>\n",
       "    </tr>\n",
       "    <tr>\n",
       "      <th>17595</th>\n",
       "      <td>1luoTtYQjMoJPSzl9YCO1B</td>\n",
       "      <td>5</td>\n",
       "      <td>4s4nBjnM0Sa7h60zQyMNmL</td>\n",
       "    </tr>\n",
       "    <tr>\n",
       "      <th>17596</th>\n",
       "      <td>1luoTtYQjMoJPSzl9YCO1B</td>\n",
       "      <td>6</td>\n",
       "      <td>4twmjsLIFyuqnwhTEHq4HC</td>\n",
       "    </tr>\n",
       "    <tr>\n",
       "      <th>17597</th>\n",
       "      <td>1luoTtYQjMoJPSzl9YCO1B</td>\n",
       "      <td>7</td>\n",
       "      <td>4jqvzScw5GpULd7XoAM5Y7</td>\n",
       "    </tr>\n",
       "    <tr>\n",
       "      <th>17598</th>\n",
       "      <td>1luoTtYQjMoJPSzl9YCO1B</td>\n",
       "      <td>8</td>\n",
       "      <td>4aUhHjaW2S0eBrPRWNY5N7</td>\n",
       "    </tr>\n",
       "    <tr>\n",
       "      <th>17599</th>\n",
       "      <td>1luoTtYQjMoJPSzl9YCO1B</td>\n",
       "      <td>9</td>\n",
       "      <td>5KCHfR2RGdpieZoQ5NQd5g</td>\n",
       "    </tr>\n",
       "  </tbody>\n",
       "</table>\n",
       "<p>17600 rows × 3 columns</p>\n",
       "</div>"
      ],
      "text/plain": [
       "                      level_0  level_1                       0\n",
       "0      5IbEL2xjRtKsunfmsahLuO        0  0j8ppsOOawdPCJnSTcXgOy\n",
       "1      5IbEL2xjRtKsunfmsahLuO        1  3oGbHF3Kdwf3AsRCbBjUxu\n",
       "2      5IbEL2xjRtKsunfmsahLuO        2  706ZrLifsm0nwlucKr4kQg\n",
       "3      5IbEL2xjRtKsunfmsahLuO        3  3PXi72ZtSqx1PZc40KS0Qj\n",
       "4      5IbEL2xjRtKsunfmsahLuO        4  4aTyb0MBTzJXE75aHxeGW5\n",
       "...                       ...      ...                     ...\n",
       "17595  1luoTtYQjMoJPSzl9YCO1B        5  4s4nBjnM0Sa7h60zQyMNmL\n",
       "17596  1luoTtYQjMoJPSzl9YCO1B        6  4twmjsLIFyuqnwhTEHq4HC\n",
       "17597  1luoTtYQjMoJPSzl9YCO1B        7  4jqvzScw5GpULd7XoAM5Y7\n",
       "17598  1luoTtYQjMoJPSzl9YCO1B        8  4aUhHjaW2S0eBrPRWNY5N7\n",
       "17599  1luoTtYQjMoJPSzl9YCO1B        9  5KCHfR2RGdpieZoQ5NQd5g\n",
       "\n",
       "[17600 rows x 3 columns]"
      ]
     },
     "execution_count": 52,
     "metadata": {},
     "output_type": "execute_result"
    }
   ],
   "source": [
    "df = df.stack().reset_index()\n",
    "df"
   ]
  },
  {
   "cell_type": "code",
   "execution_count": 73,
   "metadata": {},
   "outputs": [],
   "source": [
    "df.rename(columns = {'level_0':'artist_id',0:'track_id'}, inplace=True)\n",
    "df.drop(columns = 'level_1',inplace=True)"
   ]
  },
  {
   "cell_type": "code",
   "execution_count": 74,
   "metadata": {},
   "outputs": [
    {
     "data": {
      "text/html": [
       "<div>\n",
       "<style scoped>\n",
       "    .dataframe tbody tr th:only-of-type {\n",
       "        vertical-align: middle;\n",
       "    }\n",
       "\n",
       "    .dataframe tbody tr th {\n",
       "        vertical-align: top;\n",
       "    }\n",
       "\n",
       "    .dataframe thead th {\n",
       "        text-align: right;\n",
       "    }\n",
       "</style>\n",
       "<table border=\"1\" class=\"dataframe\">\n",
       "  <thead>\n",
       "    <tr style=\"text-align: right;\">\n",
       "      <th></th>\n",
       "      <th>artist_id</th>\n",
       "      <th>track_id</th>\n",
       "    </tr>\n",
       "  </thead>\n",
       "  <tbody>\n",
       "    <tr>\n",
       "      <th>0</th>\n",
       "      <td>5IbEL2xjRtKsunfmsahLuO</td>\n",
       "      <td>0j8ppsOOawdPCJnSTcXgOy</td>\n",
       "    </tr>\n",
       "    <tr>\n",
       "      <th>1</th>\n",
       "      <td>5IbEL2xjRtKsunfmsahLuO</td>\n",
       "      <td>3oGbHF3Kdwf3AsRCbBjUxu</td>\n",
       "    </tr>\n",
       "    <tr>\n",
       "      <th>2</th>\n",
       "      <td>5IbEL2xjRtKsunfmsahLuO</td>\n",
       "      <td>706ZrLifsm0nwlucKr4kQg</td>\n",
       "    </tr>\n",
       "    <tr>\n",
       "      <th>3</th>\n",
       "      <td>5IbEL2xjRtKsunfmsahLuO</td>\n",
       "      <td>3PXi72ZtSqx1PZc40KS0Qj</td>\n",
       "    </tr>\n",
       "    <tr>\n",
       "      <th>4</th>\n",
       "      <td>5IbEL2xjRtKsunfmsahLuO</td>\n",
       "      <td>4aTyb0MBTzJXE75aHxeGW5</td>\n",
       "    </tr>\n",
       "  </tbody>\n",
       "</table>\n",
       "</div>"
      ],
      "text/plain": [
       "                artist_id                track_id\n",
       "0  5IbEL2xjRtKsunfmsahLuO  0j8ppsOOawdPCJnSTcXgOy\n",
       "1  5IbEL2xjRtKsunfmsahLuO  3oGbHF3Kdwf3AsRCbBjUxu\n",
       "2  5IbEL2xjRtKsunfmsahLuO  706ZrLifsm0nwlucKr4kQg\n",
       "3  5IbEL2xjRtKsunfmsahLuO  3PXi72ZtSqx1PZc40KS0Qj\n",
       "4  5IbEL2xjRtKsunfmsahLuO  4aTyb0MBTzJXE75aHxeGW5"
      ]
     },
     "execution_count": 74,
     "metadata": {},
     "output_type": "execute_result"
    }
   ],
   "source": [
    "df.head()"
   ]
  },
  {
   "cell_type": "code",
   "execution_count": 75,
   "metadata": {},
   "outputs": [],
   "source": [
    "df['artist_name'] = df.artist_id.apply(lambda x: artist_dic[x])"
   ]
  },
  {
   "cell_type": "code",
   "execution_count": 76,
   "metadata": {},
   "outputs": [
    {
     "data": {
      "text/html": [
       "<div>\n",
       "<style scoped>\n",
       "    .dataframe tbody tr th:only-of-type {\n",
       "        vertical-align: middle;\n",
       "    }\n",
       "\n",
       "    .dataframe tbody tr th {\n",
       "        vertical-align: top;\n",
       "    }\n",
       "\n",
       "    .dataframe thead th {\n",
       "        text-align: right;\n",
       "    }\n",
       "</style>\n",
       "<table border=\"1\" class=\"dataframe\">\n",
       "  <thead>\n",
       "    <tr style=\"text-align: right;\">\n",
       "      <th></th>\n",
       "      <th>artist_id</th>\n",
       "      <th>track_id</th>\n",
       "      <th>artist_name</th>\n",
       "    </tr>\n",
       "  </thead>\n",
       "  <tbody>\n",
       "    <tr>\n",
       "      <th>0</th>\n",
       "      <td>5IbEL2xjRtKsunfmsahLuO</td>\n",
       "      <td>0j8ppsOOawdPCJnSTcXgOy</td>\n",
       "      <td>$NOT</td>\n",
       "    </tr>\n",
       "    <tr>\n",
       "      <th>1</th>\n",
       "      <td>5IbEL2xjRtKsunfmsahLuO</td>\n",
       "      <td>3oGbHF3Kdwf3AsRCbBjUxu</td>\n",
       "      <td>$NOT</td>\n",
       "    </tr>\n",
       "    <tr>\n",
       "      <th>2</th>\n",
       "      <td>5IbEL2xjRtKsunfmsahLuO</td>\n",
       "      <td>706ZrLifsm0nwlucKr4kQg</td>\n",
       "      <td>$NOT</td>\n",
       "    </tr>\n",
       "    <tr>\n",
       "      <th>3</th>\n",
       "      <td>5IbEL2xjRtKsunfmsahLuO</td>\n",
       "      <td>3PXi72ZtSqx1PZc40KS0Qj</td>\n",
       "      <td>$NOT</td>\n",
       "    </tr>\n",
       "    <tr>\n",
       "      <th>4</th>\n",
       "      <td>5IbEL2xjRtKsunfmsahLuO</td>\n",
       "      <td>4aTyb0MBTzJXE75aHxeGW5</td>\n",
       "      <td>$NOT</td>\n",
       "    </tr>\n",
       "    <tr>\n",
       "      <th>...</th>\n",
       "      <td>...</td>\n",
       "      <td>...</td>\n",
       "      <td>...</td>\n",
       "    </tr>\n",
       "    <tr>\n",
       "      <th>17595</th>\n",
       "      <td>1luoTtYQjMoJPSzl9YCO1B</td>\n",
       "      <td>4s4nBjnM0Sa7h60zQyMNmL</td>\n",
       "      <td>iann dior</td>\n",
       "    </tr>\n",
       "    <tr>\n",
       "      <th>17596</th>\n",
       "      <td>1luoTtYQjMoJPSzl9YCO1B</td>\n",
       "      <td>4twmjsLIFyuqnwhTEHq4HC</td>\n",
       "      <td>iann dior</td>\n",
       "    </tr>\n",
       "    <tr>\n",
       "      <th>17597</th>\n",
       "      <td>1luoTtYQjMoJPSzl9YCO1B</td>\n",
       "      <td>4jqvzScw5GpULd7XoAM5Y7</td>\n",
       "      <td>iann dior</td>\n",
       "    </tr>\n",
       "    <tr>\n",
       "      <th>17598</th>\n",
       "      <td>1luoTtYQjMoJPSzl9YCO1B</td>\n",
       "      <td>4aUhHjaW2S0eBrPRWNY5N7</td>\n",
       "      <td>iann dior</td>\n",
       "    </tr>\n",
       "    <tr>\n",
       "      <th>17599</th>\n",
       "      <td>1luoTtYQjMoJPSzl9YCO1B</td>\n",
       "      <td>5KCHfR2RGdpieZoQ5NQd5g</td>\n",
       "      <td>iann dior</td>\n",
       "    </tr>\n",
       "  </tbody>\n",
       "</table>\n",
       "<p>17600 rows × 3 columns</p>\n",
       "</div>"
      ],
      "text/plain": [
       "                    artist_id                track_id artist_name\n",
       "0      5IbEL2xjRtKsunfmsahLuO  0j8ppsOOawdPCJnSTcXgOy        $NOT\n",
       "1      5IbEL2xjRtKsunfmsahLuO  3oGbHF3Kdwf3AsRCbBjUxu        $NOT\n",
       "2      5IbEL2xjRtKsunfmsahLuO  706ZrLifsm0nwlucKr4kQg        $NOT\n",
       "3      5IbEL2xjRtKsunfmsahLuO  3PXi72ZtSqx1PZc40KS0Qj        $NOT\n",
       "4      5IbEL2xjRtKsunfmsahLuO  4aTyb0MBTzJXE75aHxeGW5        $NOT\n",
       "...                       ...                     ...         ...\n",
       "17595  1luoTtYQjMoJPSzl9YCO1B  4s4nBjnM0Sa7h60zQyMNmL   iann dior\n",
       "17596  1luoTtYQjMoJPSzl9YCO1B  4twmjsLIFyuqnwhTEHq4HC   iann dior\n",
       "17597  1luoTtYQjMoJPSzl9YCO1B  4jqvzScw5GpULd7XoAM5Y7   iann dior\n",
       "17598  1luoTtYQjMoJPSzl9YCO1B  4aUhHjaW2S0eBrPRWNY5N7   iann dior\n",
       "17599  1luoTtYQjMoJPSzl9YCO1B  5KCHfR2RGdpieZoQ5NQd5g   iann dior\n",
       "\n",
       "[17600 rows x 3 columns]"
      ]
     },
     "execution_count": 76,
     "metadata": {},
     "output_type": "execute_result"
    }
   ],
   "source": [
    "df"
   ]
  },
  {
   "cell_type": "markdown",
   "metadata": {},
   "source": [
    "#### Now we need the song features for each track"
   ]
  },
  {
   "cell_type": "code",
   "execution_count": 77,
   "metadata": {},
   "outputs": [],
   "source": [
    "def create_feature_df(features):\n",
    "    df_temp = pd.DataFrame.from_dict(features, orient = 'index')[:11]\n",
    "    df_temp = df_temp.unstack().to_frame().T[0]\n",
    "    return df_temp\n",
    "\n",
    "\n",
    "def get_song_features(songs):\n",
    "    features = [\"danceability\", \"energy\", \"key\", \"loudness\", \"mode\", \"speechiness\",\n",
    "                             \"instrumentalness\", \"liveness\", \"valence\", \"tempo\"]\n",
    "    df = pd.DataFrame(columns = features)\n",
    "    for song in songs:\n",
    "        spot_feats = sp.audio_features(song)[0]\n",
    "        df_temp = create_feature_df(spot_feats)\n",
    "        df = df.append(df_temp)\n",
    "    \n",
    "    return df"
   ]
  },
  {
   "cell_type": "code",
   "execution_count": null,
   "metadata": {},
   "outputs": [],
   "source": [
    "#Splitting df into two for processing as it times out if we do all of the songs at once\n",
    "df_features1 = get_song_features(df['track_id'][:8800])"
   ]
  },
  {
   "cell_type": "code",
   "execution_count": null,
   "metadata": {},
   "outputs": [],
   "source": [
    "df_features2 = get_song_features(df['track_id'][8800:])"
   ]
  },
  {
   "cell_type": "code",
   "execution_count": null,
   "metadata": {},
   "outputs": [],
   "source": [
    "df_features1 = df_features.astype('float64')\n",
    "df_features2 = df_features.astype('float64')"
   ]
  },
  {
   "cell_type": "code",
   "execution_count": null,
   "metadata": {},
   "outputs": [],
   "source": [
    "df_features = pd.concat([df_features1,df_features2])"
   ]
  },
  {
   "cell_type": "code",
   "execution_count": null,
   "metadata": {},
   "outputs": [],
   "source": [
    "df['tmp'] = range(len(df))\n",
    "df_features['tmp'] = range(len(df))\n",
    "\n",
    "df = pd.merge(df, df_features, on=['tmp'])\n",
    "df = df.drop('tmp', axis=1)"
   ]
  },
  {
   "cell_type": "code",
   "execution_count": null,
   "metadata": {},
   "outputs": [],
   "source": [
    "df.head()"
   ]
  },
  {
   "cell_type": "code",
   "execution_count": null,
   "metadata": {},
   "outputs": [],
   "source": [
    "df_grouped = df.groupby(['artist_id','artist_name']).mean().reset_index()"
   ]
  },
  {
   "cell_type": "code",
   "execution_count": null,
   "metadata": {},
   "outputs": [],
   "source": [
    "df_grouped"
   ]
  },
  {
   "cell_type": "markdown",
   "metadata": {},
   "source": [
    "#### Before we save the aggregated features, we are going to remove the features we previously found to have no correlation to me enjoying a song\n",
    "\n",
    "#### Lets also see if we can find similar artists based on cosign similarity "
   ]
  },
  {
   "cell_type": "code",
   "execution_count": null,
   "metadata": {},
   "outputs": [],
   "source": [
    "df_grouped.drop(columns = ['key','mode'], inplace=True)"
   ]
  },
  {
   "cell_type": "code",
   "execution_count": null,
   "metadata": {},
   "outputs": [],
   "source": [
    "from sklearn.metrics.pairwise import cosine_similarity\n",
    "from sklearn.preprocessing import StandardScaler"
   ]
  },
  {
   "cell_type": "code",
   "execution_count": null,
   "metadata": {},
   "outputs": [],
   "source": [
    "df_grouped.iloc[:,2:]"
   ]
  },
  {
   "cell_type": "code",
   "execution_count": null,
   "metadata": {},
   "outputs": [],
   "source": [
    "sd = StandardScaler()\n",
    "scaled = sd.fit_transform(df_grouped.iloc[:,2:])"
   ]
  },
  {
   "cell_type": "code",
   "execution_count": null,
   "metadata": {},
   "outputs": [],
   "source": [
    "df_grouped.iloc[:,2:] = scaled"
   ]
  },
  {
   "cell_type": "code",
   "execution_count": null,
   "metadata": {},
   "outputs": [],
   "source": [
    "df_grouped.head()"
   ]
  },
  {
   "cell_type": "code",
   "execution_count": null,
   "metadata": {},
   "outputs": [],
   "source": [
    "df_grouped.artist_name[80:100]"
   ]
  },
  {
   "cell_type": "code",
   "execution_count": null,
   "metadata": {},
   "outputs": [],
   "source": [
    "cosine_similarity([scaled[80]],[scaled[98]])"
   ]
  },
  {
   "cell_type": "code",
   "execution_count": null,
   "metadata": {},
   "outputs": [],
   "source": [
    "cosine_similarity([scaled[80]],[scaled[99]])"
   ]
  },
  {
   "cell_type": "markdown",
   "metadata": {},
   "source": [
    "#### It works!\n",
    "\n",
    "We can see that artists like ASAP Rocky and DMX who both rap are more similar than ASAP Rocky and Jack U (edm music)\n",
    "\n",
    "#### Let's save our artist feature df and our standard scaler so that we can use it to scale artist features the same way in the future"
   ]
  },
  {
   "cell_type": "code",
   "execution_count": null,
   "metadata": {},
   "outputs": [],
   "source": [
    "import joblib"
   ]
  },
  {
   "cell_type": "code",
   "execution_count": null,
   "metadata": {},
   "outputs": [],
   "source": [
    "scaler_filename = \"MyData/artist_feature_scaler.save\"\n",
    "joblib.dump(sd, scaler_filename) "
   ]
  },
  {
   "cell_type": "code",
   "execution_count": null,
   "metadata": {},
   "outputs": [],
   "source": [
    "artist_feature_file_name = 'MyData/artist_features.csv'\n",
    "df_grouped.to_csv(artist_feature_file_name)"
   ]
  },
  {
   "cell_type": "code",
   "execution_count": null,
   "metadata": {},
   "outputs": [],
   "source": []
  }
 ],
 "metadata": {
  "kernelspec": {
   "display_name": "spotify",
   "language": "python",
   "name": "spotify"
  },
  "language_info": {
   "codemirror_mode": {
    "name": "ipython",
    "version": 3
   },
   "file_extension": ".py",
   "mimetype": "text/x-python",
   "name": "python",
   "nbconvert_exporter": "python",
   "pygments_lexer": "ipython3",
   "version": "3.8.5"
  }
 },
 "nbformat": 4,
 "nbformat_minor": 4
}
